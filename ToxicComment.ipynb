{
  "nbformat": 4,
  "nbformat_minor": 0,
  "metadata": {
    "colab": {
      "provenance": [],
      "collapsed_sections": []
    },
    "kernelspec": {
      "name": "python3",
      "display_name": "Python 3"
    },
    "language_info": {
      "name": "python"
    }
  },
  "cells": [
    {
      "cell_type": "code",
      "execution_count": null,
      "metadata": {
        "id": "Qri0BHMb5UoS"
      },
      "outputs": [],
      "source": [
        "# LIBRARIES\n",
        "import pandas as pd\n",
        "import numpy as np\n",
        "import seaborn as sns\n",
        "import matplotlib.pyplot as plt"
      ]
    },
    {
      "cell_type": "code",
      "source": [
        "# updating matplotlib / should restart runtime before using its features\n",
        "\n",
        "!pip install matplotlib --upgrade matplotlib"
      ],
      "metadata": {
        "id": "SX8soj6oMVjQ",
        "colab": {
          "base_uri": "https://localhost:8080/",
          "height": 503
        },
        "outputId": "497b6a79-0b07-4f00-a2bd-5849de5c7e38"
      },
      "execution_count": null,
      "outputs": [
        {
          "output_type": "stream",
          "name": "stdout",
          "text": [
            "Looking in indexes: https://pypi.org/simple, https://us-python.pkg.dev/colab-wheels/public/simple/\n",
            "Requirement already satisfied: matplotlib in /usr/local/lib/python3.7/dist-packages (3.2.2)\n",
            "Collecting matplotlib\n",
            "  Downloading matplotlib-3.5.3-cp37-cp37m-manylinux_2_5_x86_64.manylinux1_x86_64.whl (11.2 MB)\n",
            "\u001b[K     |████████████████████████████████| 11.2 MB 9.5 MB/s \n",
            "\u001b[?25hRequirement already satisfied: packaging>=20.0 in /usr/local/lib/python3.7/dist-packages (from matplotlib) (21.3)\n",
            "Requirement already satisfied: numpy>=1.17 in /usr/local/lib/python3.7/dist-packages (from matplotlib) (1.21.6)\n",
            "Requirement already satisfied: python-dateutil>=2.7 in /usr/local/lib/python3.7/dist-packages (from matplotlib) (2.8.2)\n",
            "Requirement already satisfied: cycler>=0.10 in /usr/local/lib/python3.7/dist-packages (from matplotlib) (0.11.0)\n",
            "Collecting fonttools>=4.22.0\n",
            "  Downloading fonttools-4.37.1-py3-none-any.whl (957 kB)\n",
            "\u001b[K     |████████████████████████████████| 957 kB 47.2 MB/s \n",
            "\u001b[?25hRequirement already satisfied: pillow>=6.2.0 in /usr/local/lib/python3.7/dist-packages (from matplotlib) (7.1.2)\n",
            "Requirement already satisfied: pyparsing>=2.2.1 in /usr/local/lib/python3.7/dist-packages (from matplotlib) (3.0.9)\n",
            "Requirement already satisfied: kiwisolver>=1.0.1 in /usr/local/lib/python3.7/dist-packages (from matplotlib) (1.4.4)\n",
            "Requirement already satisfied: typing-extensions in /usr/local/lib/python3.7/dist-packages (from kiwisolver>=1.0.1->matplotlib) (4.1.1)\n",
            "Requirement already satisfied: six>=1.5 in /usr/local/lib/python3.7/dist-packages (from python-dateutil>=2.7->matplotlib) (1.15.0)\n",
            "Installing collected packages: fonttools, matplotlib\n",
            "  Attempting uninstall: matplotlib\n",
            "    Found existing installation: matplotlib 3.2.2\n",
            "    Uninstalling matplotlib-3.2.2:\n",
            "      Successfully uninstalled matplotlib-3.2.2\n",
            "Successfully installed fonttools-4.37.1 matplotlib-3.5.3\n"
          ]
        },
        {
          "output_type": "display_data",
          "data": {
            "application/vnd.colab-display-data+json": {
              "pip_warning": {
                "packages": [
                  "matplotlib",
                  "mpl_toolkits"
                ]
              }
            }
          },
          "metadata": {}
        }
      ]
    },
    {
      "cell_type": "code",
      "source": [
        "# downloading data\n",
        "!gdown 1mimOTmax-oPDQMXNEeRQxoQH1erpKe74\n",
        "!gdown 1veF8BcOb8QRIqals6uEPtArim9PD_Xg3\n",
        "!gdown 1D5EufvBd1B6Q18U31Dp2dMgkvuY2mPmJ"
      ],
      "metadata": {
        "colab": {
          "base_uri": "https://localhost:8080/"
        },
        "id": "MEkCiuFx_Ywh",
        "outputId": "b6e89b54-4c0a-4a5b-b969-69532f6ebcd2"
      },
      "execution_count": null,
      "outputs": [
        {
          "output_type": "stream",
          "name": "stdout",
          "text": [
            "Downloading...\n",
            "From: https://drive.google.com/uc?id=1mimOTmax-oPDQMXNEeRQxoQH1erpKe74\n",
            "To: /content/sample_submission.csv\n",
            "100% 6.28M/6.28M [00:00<00:00, 162MB/s]\n",
            "Downloading...\n",
            "From: https://drive.google.com/uc?id=1veF8BcOb8QRIqals6uEPtArim9PD_Xg3\n",
            "To: /content/train.csv\n",
            "100% 68.8M/68.8M [00:00<00:00, 194MB/s]\n",
            "Downloading...\n",
            "From: https://drive.google.com/uc?id=1D5EufvBd1B6Q18U31Dp2dMgkvuY2mPmJ\n",
            "To: /content/test.csv\n",
            "100% 60.4M/60.4M [00:00<00:00, 152MB/s]\n"
          ]
        }
      ]
    },
    {
      "cell_type": "code",
      "source": [
        "Submission = pd.read_csv('sample_submission.csv')\n",
        "data = pd.read_csv('train.csv')\n",
        "test_set = pd.read_csv('test.csv')"
      ],
      "metadata": {
        "id": "h95RJk6PBa9U"
      },
      "execution_count": null,
      "outputs": []
    },
    {
      "cell_type": "code",
      "source": [
        "data.head()"
      ],
      "metadata": {
        "colab": {
          "base_uri": "https://localhost:8080/",
          "height": 206
        },
        "id": "lgWktIz8Bj4t",
        "outputId": "c06682c7-0e18-4389-d56c-8bf263433953"
      },
      "execution_count": null,
      "outputs": [
        {
          "output_type": "execute_result",
          "data": {
            "text/plain": [
              "                 id                                       comment_text  toxic  \\\n",
              "0  0000997932d777bf  Explanation\\nWhy the edits made under my usern...      0   \n",
              "1  000103f0d9cfb60f  D'aww! He matches this background colour I'm s...      0   \n",
              "2  000113f07ec002fd  Hey man, I'm really not trying to edit war. It...      0   \n",
              "3  0001b41b1c6bb37e  \"\\nMore\\nI can't make any real suggestions on ...      0   \n",
              "4  0001d958c54c6e35  You, sir, are my hero. Any chance you remember...      0   \n",
              "\n",
              "   severe_toxic  obscene  threat  insult  identity_hate  \n",
              "0             0        0       0       0              0  \n",
              "1             0        0       0       0              0  \n",
              "2             0        0       0       0              0  \n",
              "3             0        0       0       0              0  \n",
              "4             0        0       0       0              0  "
            ],
            "text/html": [
              "\n",
              "  <div id=\"df-313fa545-3058-4ca5-ad8d-367a5cb70cdc\">\n",
              "    <div class=\"colab-df-container\">\n",
              "      <div>\n",
              "<style scoped>\n",
              "    .dataframe tbody tr th:only-of-type {\n",
              "        vertical-align: middle;\n",
              "    }\n",
              "\n",
              "    .dataframe tbody tr th {\n",
              "        vertical-align: top;\n",
              "    }\n",
              "\n",
              "    .dataframe thead th {\n",
              "        text-align: right;\n",
              "    }\n",
              "</style>\n",
              "<table border=\"1\" class=\"dataframe\">\n",
              "  <thead>\n",
              "    <tr style=\"text-align: right;\">\n",
              "      <th></th>\n",
              "      <th>id</th>\n",
              "      <th>comment_text</th>\n",
              "      <th>toxic</th>\n",
              "      <th>severe_toxic</th>\n",
              "      <th>obscene</th>\n",
              "      <th>threat</th>\n",
              "      <th>insult</th>\n",
              "      <th>identity_hate</th>\n",
              "    </tr>\n",
              "  </thead>\n",
              "  <tbody>\n",
              "    <tr>\n",
              "      <th>0</th>\n",
              "      <td>0000997932d777bf</td>\n",
              "      <td>Explanation\\nWhy the edits made under my usern...</td>\n",
              "      <td>0</td>\n",
              "      <td>0</td>\n",
              "      <td>0</td>\n",
              "      <td>0</td>\n",
              "      <td>0</td>\n",
              "      <td>0</td>\n",
              "    </tr>\n",
              "    <tr>\n",
              "      <th>1</th>\n",
              "      <td>000103f0d9cfb60f</td>\n",
              "      <td>D'aww! He matches this background colour I'm s...</td>\n",
              "      <td>0</td>\n",
              "      <td>0</td>\n",
              "      <td>0</td>\n",
              "      <td>0</td>\n",
              "      <td>0</td>\n",
              "      <td>0</td>\n",
              "    </tr>\n",
              "    <tr>\n",
              "      <th>2</th>\n",
              "      <td>000113f07ec002fd</td>\n",
              "      <td>Hey man, I'm really not trying to edit war. It...</td>\n",
              "      <td>0</td>\n",
              "      <td>0</td>\n",
              "      <td>0</td>\n",
              "      <td>0</td>\n",
              "      <td>0</td>\n",
              "      <td>0</td>\n",
              "    </tr>\n",
              "    <tr>\n",
              "      <th>3</th>\n",
              "      <td>0001b41b1c6bb37e</td>\n",
              "      <td>\"\\nMore\\nI can't make any real suggestions on ...</td>\n",
              "      <td>0</td>\n",
              "      <td>0</td>\n",
              "      <td>0</td>\n",
              "      <td>0</td>\n",
              "      <td>0</td>\n",
              "      <td>0</td>\n",
              "    </tr>\n",
              "    <tr>\n",
              "      <th>4</th>\n",
              "      <td>0001d958c54c6e35</td>\n",
              "      <td>You, sir, are my hero. Any chance you remember...</td>\n",
              "      <td>0</td>\n",
              "      <td>0</td>\n",
              "      <td>0</td>\n",
              "      <td>0</td>\n",
              "      <td>0</td>\n",
              "      <td>0</td>\n",
              "    </tr>\n",
              "  </tbody>\n",
              "</table>\n",
              "</div>\n",
              "      <button class=\"colab-df-convert\" onclick=\"convertToInteractive('df-313fa545-3058-4ca5-ad8d-367a5cb70cdc')\"\n",
              "              title=\"Convert this dataframe to an interactive table.\"\n",
              "              style=\"display:none;\">\n",
              "        \n",
              "  <svg xmlns=\"http://www.w3.org/2000/svg\" height=\"24px\"viewBox=\"0 0 24 24\"\n",
              "       width=\"24px\">\n",
              "    <path d=\"M0 0h24v24H0V0z\" fill=\"none\"/>\n",
              "    <path d=\"M18.56 5.44l.94 2.06.94-2.06 2.06-.94-2.06-.94-.94-2.06-.94 2.06-2.06.94zm-11 1L8.5 8.5l.94-2.06 2.06-.94-2.06-.94L8.5 2.5l-.94 2.06-2.06.94zm10 10l.94 2.06.94-2.06 2.06-.94-2.06-.94-.94-2.06-.94 2.06-2.06.94z\"/><path d=\"M17.41 7.96l-1.37-1.37c-.4-.4-.92-.59-1.43-.59-.52 0-1.04.2-1.43.59L10.3 9.45l-7.72 7.72c-.78.78-.78 2.05 0 2.83L4 21.41c.39.39.9.59 1.41.59.51 0 1.02-.2 1.41-.59l7.78-7.78 2.81-2.81c.8-.78.8-2.07 0-2.86zM5.41 20L4 18.59l7.72-7.72 1.47 1.35L5.41 20z\"/>\n",
              "  </svg>\n",
              "      </button>\n",
              "      \n",
              "  <style>\n",
              "    .colab-df-container {\n",
              "      display:flex;\n",
              "      flex-wrap:wrap;\n",
              "      gap: 12px;\n",
              "    }\n",
              "\n",
              "    .colab-df-convert {\n",
              "      background-color: #E8F0FE;\n",
              "      border: none;\n",
              "      border-radius: 50%;\n",
              "      cursor: pointer;\n",
              "      display: none;\n",
              "      fill: #1967D2;\n",
              "      height: 32px;\n",
              "      padding: 0 0 0 0;\n",
              "      width: 32px;\n",
              "    }\n",
              "\n",
              "    .colab-df-convert:hover {\n",
              "      background-color: #E2EBFA;\n",
              "      box-shadow: 0px 1px 2px rgba(60, 64, 67, 0.3), 0px 1px 3px 1px rgba(60, 64, 67, 0.15);\n",
              "      fill: #174EA6;\n",
              "    }\n",
              "\n",
              "    [theme=dark] .colab-df-convert {\n",
              "      background-color: #3B4455;\n",
              "      fill: #D2E3FC;\n",
              "    }\n",
              "\n",
              "    [theme=dark] .colab-df-convert:hover {\n",
              "      background-color: #434B5C;\n",
              "      box-shadow: 0px 1px 3px 1px rgba(0, 0, 0, 0.15);\n",
              "      filter: drop-shadow(0px 1px 2px rgba(0, 0, 0, 0.3));\n",
              "      fill: #FFFFFF;\n",
              "    }\n",
              "  </style>\n",
              "\n",
              "      <script>\n",
              "        const buttonEl =\n",
              "          document.querySelector('#df-313fa545-3058-4ca5-ad8d-367a5cb70cdc button.colab-df-convert');\n",
              "        buttonEl.style.display =\n",
              "          google.colab.kernel.accessAllowed ? 'block' : 'none';\n",
              "\n",
              "        async function convertToInteractive(key) {\n",
              "          const element = document.querySelector('#df-313fa545-3058-4ca5-ad8d-367a5cb70cdc');\n",
              "          const dataTable =\n",
              "            await google.colab.kernel.invokeFunction('convertToInteractive',\n",
              "                                                     [key], {});\n",
              "          if (!dataTable) return;\n",
              "\n",
              "          const docLinkHtml = 'Like what you see? Visit the ' +\n",
              "            '<a target=\"_blank\" href=https://colab.research.google.com/notebooks/data_table.ipynb>data table notebook</a>'\n",
              "            + ' to learn more about interactive tables.';\n",
              "          element.innerHTML = '';\n",
              "          dataTable['output_type'] = 'display_data';\n",
              "          await google.colab.output.renderOutput(dataTable, element);\n",
              "          const docLink = document.createElement('div');\n",
              "          docLink.innerHTML = docLinkHtml;\n",
              "          element.appendChild(docLink);\n",
              "        }\n",
              "      </script>\n",
              "    </div>\n",
              "  </div>\n",
              "  "
            ]
          },
          "metadata": {},
          "execution_count": 4
        }
      ]
    },
    {
      "cell_type": "code",
      "source": [
        "data.shape"
      ],
      "metadata": {
        "colab": {
          "base_uri": "https://localhost:8080/"
        },
        "id": "NQOGBYnECpMn",
        "outputId": "07c3cd66-9527-4e11-e28d-e0862ce87ab0"
      },
      "execution_count": null,
      "outputs": [
        {
          "output_type": "execute_result",
          "data": {
            "text/plain": [
              "(159571, 8)"
            ]
          },
          "metadata": {},
          "execution_count": 5
        }
      ]
    },
    {
      "cell_type": "markdown",
      "source": [
        "Data Visualiziation"
      ],
      "metadata": {
        "id": "ISGeX3pROtG8"
      }
    },
    {
      "cell_type": "code",
      "source": [
        "# first I make a dataset contains number of samples belongs to each label (insult,hate,...)\n",
        "count = pd.DataFrame(data.iloc[:,2:].sum(axis=0).values , columns=['values'])\n",
        "# then make a data frame includes the name of each label column in main dataset (insult,hate,...)\n",
        "categories = pd.DataFrame(data.columns[2:].values , columns=['categories'])\n",
        "# I merge them together to have a dataset with the names of label columns in row and the number of samples labeled in columns\n",
        "cat_val = pd.concat([categories,count],axis=1)\n",
        "sns.set(font_scale = 2)\n",
        "plt.figure(figsize=(15,8))\n",
        "ax = sns.barplot(x='categories',y='values',data=cat_val)\n",
        "ax.bar_label(ax.containers[0]);"
      ],
      "metadata": {
        "id": "Do3MSKddEDP1",
        "colab": {
          "base_uri": "https://localhost:8080/",
          "height": 531
        },
        "outputId": "649f79d7-1559-425a-d403-9b77262d82b7"
      },
      "execution_count": null,
      "outputs": [
        {
          "output_type": "display_data",
          "data": {
            "text/plain": [
              "<Figure size 1080x576 with 1 Axes>"
            ],
            "image/png": "[encoded data removed]"
          },
          "metadata": {}
        }
      ]
    },
    {
      "cell_type": "code",
      "source": [
        "# in this graph, I want to see how many label belongs to each sample sentences\n",
        "# for ex. 'I hate you, I will kill you to send you to the hell' may be labeled as toxic, threat, insult and hate\n",
        "# so we can say this sentences contains 3 labels\n",
        "# first I make a data frame includes all possible way a sample sentence may have\n",
        "categories = pd.DataFrame(set(data.iloc[:,2:].sum(axis=1)) , columns=['categories'])\n",
        "# then I count how many sentences belong to each categories (1,2,...,6)\n",
        "count = pd.DataFrame(data.iloc[:,2:].sum(axis=1).value_counts() , columns=['values'])\n",
        "cat_val = pd.concat([categories,count],axis=1)\n",
        "cat_val = cat_val.drop([0])\n",
        "sns.set(font_scale = 2)\n",
        "plt.figure(figsize=(15,8))\n",
        "ax = sns.barplot(x='categories',y='values',data=cat_val)\n",
        "ax.bar_label(ax.containers[0]);"
      ],
      "metadata": {
        "id": "73R00oaIEudz",
        "colab": {
          "base_uri": "https://localhost:8080/",
          "height": 527
        },
        "outputId": "942637cf-405a-4fbb-cd9b-d6641d46314a"
      },
      "execution_count": null,
      "outputs": [
        {
          "output_type": "display_data",
          "data": {
            "text/plain": [
              "<Figure size 1080x576 with 1 Axes>"
            ],
            "image/png": "[encoded data removed]"
          },
          "metadata": {}
        }
      ]
    },
    {
      "cell_type": "markdown",
      "source": [
        "Preprocessing"
      ],
      "metadata": {
        "id": "mEi6T--JUrCW"
      }
    },
    {
      "cell_type": "code",
      "source": [
        "#nlp libraries\n",
        "import nltk\n",
        "nltk.download('stopwords')\n",
        "from nltk.corpus import stopwords\n",
        "from nltk.stem.snowball import SnowballStemmer\n",
        "import re\n",
        "import sys\n",
        "import warnings\n",
        "if not sys.warnoptions:\n",
        "    warnings.simplefilter(\"ignore\")"
      ],
      "metadata": {
        "colab": {
          "base_uri": "https://localhost:8080/"
        },
        "id": "vKqCP1gRQtUW",
        "outputId": "4e38c7c3-8b02-4e45-faa3-07e0e0ca9069"
      },
      "execution_count": null,
      "outputs": [
        {
          "output_type": "stream",
          "name": "stderr",
          "text": [
            "[nltk_data] Downloading package stopwords to /root/nltk_data...\n",
            "[nltk_data]   Unzipping corpora/stopwords.zip.\n"
          ]
        }
      ]
    },
    {
      "cell_type": "code",
      "source": [
        "def clean_html(sentence):\n",
        "  cleanr = re.compile('<.*?>')\n",
        "  cleant = re.sub(cleanr,\" \" , str(sentence))\n",
        "  return cleant\n",
        "def clean_punc(sentence):\n",
        "  clean = re.sub(r'[?|!|\\'|\"|#]',r'',sentence)\n",
        "  clean = re.sub(r'[.|,|)|(|\\|/]',r\" \",clean)\n",
        "  clean = clean.strip()\n",
        "  clean = clean.replace('\\n',' ')\n",
        "  return clean\n",
        "def keep_alpha(sentence):\n",
        "  alpha_sent = \"\"\n",
        "  for word in sentence.split():\n",
        "    alpha_word = re.sub('[^a-z A-Z]+', ' ' , word)\n",
        "    alpha_sent+=alpha_word\n",
        "    alpha_sent+=' '\n",
        "  alpha_sent = alpha_sent.strip()\n",
        "  return alpha_sent"
      ],
      "metadata": {
        "id": "sB1w-fWLVlSG"
      },
      "execution_count": null,
      "outputs": []
    },
    {
      "cell_type": "code",
      "source": [
        "# using functions to clean train sentences\n",
        "data['comment_text'] = data['comment_text'].str.lower()\n",
        "data['comment_text'] = data['comment_text'].apply(clean_html)\n",
        "data['comment_text'] = data['comment_text'].apply(clean_punc)\n",
        "data['comment_text'] = data['comment_text'].apply(keep_alpha)"
      ],
      "metadata": {
        "id": "AQ3gIDalgr9B"
      },
      "execution_count": null,
      "outputs": []
    },
    {
      "cell_type": "code",
      "source": [
        "# using functions to clean test sentences\n",
        "test_set['comment_text'] = test_set['comment_text'].str.lower()\n",
        "test_set['comment_text'] = test_set['comment_text'].apply(clean_html)\n",
        "test_set['comment_text'] = test_set['comment_text'].apply(clean_punc)\n",
        "test_set['comment_text'] = test_set['comment_text'].apply(keep_alpha)"
      ],
      "metadata": {
        "id": "Jll7thtE2vxZ"
      },
      "execution_count": null,
      "outputs": []
    },
    {
      "cell_type": "code",
      "source": [
        "stop_words = set(stopwords.words('english'))\n",
        "stop_words.update(['zero','one','two','three','four','five','six','seven','eight','nine','ten','may','also','across','among','beside','however','yet','within'])\n",
        "re_stop_words = re.compile(r\"\\b(\" + \"|\".join(stop_words) + \")\\\\W\", re.I)\n",
        "def removeStopWords(sentence):\n",
        "    global re_stop_words\n",
        "    return re_stop_words.sub(\" \", sentence)"
      ],
      "metadata": {
        "id": "4_DfHHiuhGY9"
      },
      "execution_count": null,
      "outputs": []
    },
    {
      "cell_type": "code",
      "source": [
        "# remove frequnet words in the sentences\n",
        "data['comment_text'] = data['comment_text'].apply(removeStopWords)\n",
        "test_set['comment_text'] = test_set['comment_text'].apply(removeStopWords)"
      ],
      "metadata": {
        "id": "7wVq-BHhZ9Uq"
      },
      "execution_count": null,
      "outputs": []
    },
    {
      "cell_type": "code",
      "source": [
        "stemmer = SnowballStemmer(\"english\")\n",
        "def stemming(sentence):\n",
        "    stemSentence = \"\"\n",
        "    for word in sentence.split():\n",
        "        stem = stemmer.stem(word)\n",
        "        stemSentence += stem\n",
        "        stemSentence += \" \"\n",
        "    stemSentence = stemSentence.strip()\n",
        "    return stemSentence"
      ],
      "metadata": {
        "id": "wt_gN5UyjU5R"
      },
      "execution_count": null,
      "outputs": []
    },
    {
      "cell_type": "code",
      "source": [
        "# take root of each words\n",
        "data['comment_text'] = data['comment_text'].apply(stemming)\n",
        "test_set['comment_text'] = test_set['comment_text'].apply(stemming)"
      ],
      "metadata": {
        "id": "n_Nyo9ATaCds"
      },
      "execution_count": null,
      "outputs": []
    },
    {
      "cell_type": "markdown",
      "source": [
        "Cross Validation"
      ],
      "metadata": {
        "id": "2mpiEQj1awZY"
      }
    },
    {
      "cell_type": "code",
      "source": [
        "from sklearn.model_selection import train_test_split\n",
        "data_set = data[:30000]\n",
        "train_set, validation_set = train_test_split(data_set,random_state=42,shuffle=True,test_size=0.2)"
      ],
      "metadata": {
        "id": "q2AB2Cg0kMd_"
      },
      "execution_count": null,
      "outputs": []
    },
    {
      "cell_type": "code",
      "source": [
        "X_train = train_set.iloc[:,1]\n",
        "X_valid = validation_set.iloc[:,1]\n",
        "y_train = train_set.drop(['id','comment_text'],axis=1)\n",
        "y_valid = validation_set.drop(['id','comment_text'],axis=1)"
      ],
      "metadata": {
        "id": "TKjzub1-ldAF"
      },
      "execution_count": null,
      "outputs": []
    },
    {
      "cell_type": "code",
      "source": [
        "# vectorize sentences\n",
        "from sklearn.feature_extraction.text import TfidfVectorizer,CountVectorizer\n",
        "tf_idf = TfidfVectorizer(strip_accents='unicode',analyzer='word',ngram_range=(1,3),norm='l2')\n",
        "X_train = tf_idf.fit_transform(X_train)\n",
        "X_valid = tf_idf.transform(X_valid)"
      ],
      "metadata": {
        "id": "Y80MS5IZl5V_"
      },
      "execution_count": null,
      "outputs": []
    },
    {
      "cell_type": "code",
      "source": [
        "# !pip install scikit-multilearn"
      ],
      "metadata": {
        "id": "VeD7pBpytE4M"
      },
      "execution_count": null,
      "outputs": []
    },
    {
      "cell_type": "code",
      "source": [
        "# from skmultilearn.problem_transform import LabelPowerset\n",
        "# from sklearn.linear_model import LogisticRegression\n",
        "# from sklearn.metrics import accuracy_score\n",
        "# classifier = LabelPowerset(LogisticRegression())\n",
        "# classifier.fit(X_train, y_train)\n",
        "# predictions = classifier.predict(X_test)\n",
        "# print(\"Accuracy = \",accuracy_score(y_test,predictions))\n",
        "# print(\"\\n\")"
      ],
      "metadata": {
        "id": "xMeR7EfHstal"
      },
      "execution_count": null,
      "outputs": []
    },
    {
      "cell_type": "code",
      "source": [
        "from sklearn.linear_model import LogisticRegression\n",
        "from sklearn.pipeline import Pipeline\n",
        "from sklearn.metrics import accuracy_score\n",
        "from sklearn.multiclass import OneVsRestClassifier"
      ],
      "metadata": {
        "id": "IQftpJ9D0lTS"
      },
      "execution_count": null,
      "outputs": []
    },
    {
      "cell_type": "code",
      "source": [
        "LogReg_pipeline = Pipeline([('clf', OneVsRestClassifier(LogisticRegression(solver='sag'), n_jobs=-1))])\n",
        "for category in data.columns[2:]:\n",
        "    LogReg_pipeline.fit(X_train, y_train[category])\n",
        "    y_pred = LogReg_pipeline.predict(X_valid)\n",
        "    score = accuracy_score(y_valid[category],y_pred)\n",
        "    print(f'accuracy on {category} column is {np.round(score,3)}')"
      ],
      "metadata": {
        "id": "O_TKIYZrbsi1"
      },
      "execution_count": null,
      "outputs": []
    },
    {
      "cell_type": "code",
      "source": [
        "# useing all data to train model and the predicting test_set\n",
        "data = data\n",
        "X_train = data.iloc[:,1]\n",
        "y_train = data.drop(['id','comment_text'],axis=1)\n",
        "test_set = test_set.iloc[:,1]\n",
        "X_train = tf_idf.fit_transform(X_train)\n",
        "test_set = tf_idf.transform(test_set)"
      ],
      "metadata": {
        "id": "EcQlhk1pdtAq"
      },
      "execution_count": null,
      "outputs": []
    },
    {
      "cell_type": "code",
      "source": [
        "LogReg_pipeline = Pipeline([('clf', OneVsRestClassifier(LogisticRegression(solver='sag'), n_jobs=-1))])\n",
        "Pred = pd.DataFrame()\n",
        "for category in data.columns[2:]:\n",
        "    col = [i for i in Submission.columns if i==category]\n",
        "    LogReg_pipeline.fit(X_train, y_train[category])\n",
        "    predictions = pd.DataFrame(LogReg_pipeline.predict(test_set),columns= col)\n",
        "    Pred = pd.concat([Pred,predictions],axis=1)"
      ],
      "metadata": {
        "id": "4cAYfctn1EKa"
      },
      "execution_count": null,
      "outputs": []
    },
    {
      "cell_type": "code",
      "source": [
        "Pred.insert(0,'id', Submission.loc[:,'id'])\n",
        "Pred.to_csv('submission.csv', index=False)"
      ],
      "metadata": {
        "id": "-q3XkamE4StU"
      },
      "execution_count": null,
      "outputs": []
    }
  ]
}