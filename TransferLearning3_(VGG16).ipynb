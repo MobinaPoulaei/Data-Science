{
  "nbformat": 4,
  "nbformat_minor": 0,
  "metadata": {
    "colab": {
      "provenance": [],
      "collapsed_sections": [
        "-3YkosXS1Drv"
      ]
    },
    "kernelspec": {
      "name": "python3",
      "display_name": "Python 3"
    },
    "language_info": {
      "name": "python"
    },
    "accelerator": "GPU",
    "gpuClass": "standard"
  },
  "cells": [
    {
      "cell_type": "code",
      "execution_count": 1,
      "metadata": {
        "id": "S4hTq4V6mWIM"
      },
      "outputs": [],
      "source": [
        "import numpy as np\n",
        "import pandas as pd\n",
        "import matplotlib.pyplot as plt\n",
        "import seaborn as sns\n",
        "import os\n",
        "from time import perf_counter\n",
        "\n",
        "import tensorflow as tf\n",
        "from tensorflow import keras\n",
        "from keras import layers\n",
        "from keras.models import Sequential, Model\n",
        "from keras.preprocessing.image import ImageDataGenerator\n",
        "from keras.applications.vgg16 import VGG16\n",
        "\n",
        "from pathlib import Path\n",
        "from sklearn.model_selection import train_test_split\n",
        "from sklearn.metrics import confusion_matrix, classification_report"
      ]
    },
    {
      "cell_type": "code",
      "source": [
        "!gdown 1r8BvjiakPswIqnlZRYfRE47SgwYXLekB"
      ],
      "metadata": {
        "colab": {
          "base_uri": "https://localhost:8080/"
        },
        "id": "EGfRaCtNhF6Q",
        "outputId": "00d48acc-3802-48a5-f2a7-7c01bc9d8b87"
      },
      "execution_count": 2,
      "outputs": [
        {
          "output_type": "stream",
          "name": "stdout",
          "text": [
            "Downloading...\n",
            "From: https://drive.google.com/uc?id=1r8BvjiakPswIqnlZRYfRE47SgwYXLekB\n",
            "To: /content/Flower.zip\n",
            "100% 236M/236M [00:03<00:00, 65.6MB/s]\n"
          ]
        }
      ]
    },
    {
      "cell_type": "code",
      "source": [
        "!unzip Flower"
      ],
      "metadata": {
        "id": "FlcD365dhN5I"
      },
      "execution_count": null,
      "outputs": []
    },
    {
      "cell_type": "code",
      "source": [
        "image_dir = Path('/content/flowers')\n",
        "filepaths = list(image_dir.glob(r'**/*.jpg'))\n",
        "labels = list(map(lambda x: os.path.split(os.path.split(x)[0])[1], filepaths))\n",
        "\n",
        "filepaths = pd.Series(filepaths, name='Filepath').astype(str)\n",
        "labels = pd.Series(labels, name='Label')\n",
        "\n",
        "image_df = pd.concat([filepaths, labels], axis=1)"
      ],
      "metadata": {
        "id": "rqKbRmghhY7Y"
      },
      "execution_count": 2,
      "outputs": []
    },
    {
      "cell_type": "code",
      "source": [
        "sns.barplot(x=image_df.Label.value_counts().index, y=image_df.Label.value_counts().values)\n",
        "plt.show()"
      ],
      "metadata": {
        "colab": {
          "base_uri": "https://localhost:8080/",
          "height": 265
        },
        "id": "AG5MBPcYhlHq",
        "outputId": "15c7e5a8-603b-496a-e9d7-252528d66a04"
      },
      "execution_count": null,
      "outputs": [
        {
          "output_type": "display_data",
          "data": {
            "text/plain": [
              "<Figure size 432x288 with 1 Axes>"
            ],
            "image/png": "[encoded data removed]"
          },
          "metadata": {
            "needs_background": "light"
          }
        }
      ]
    },
    {
      "cell_type": "code",
      "source": [
        "train_ds, test_ds = train_test_split(image_df, test_size=0.2, shuffle=True, random_state=1)"
      ],
      "metadata": {
        "id": "r9DCyhcEh9wV"
      },
      "execution_count": 8,
      "outputs": []
    },
    {
      "cell_type": "code",
      "source": [
        "train_ds = ImageDataGenerator(rescale = 1./255).flow_from_dataframe(train_ds,\n",
        "                                                                 x_col='Filepath',\n",
        "                                                                 y_col='Label',\n",
        "                                                                 target_size=(224, 224),\n",
        "                                                                 color_mode='rgb',\n",
        "                                                                 class_mode='categorical',\n",
        "                                                                 batch_size=32)\n",
        "test_ds = ImageDataGenerator(rescale = 1./255).flow_from_dataframe(test_ds,\n",
        "                                                                 x_col='Filepath',\n",
        "                                                                 y_col='Label',\n",
        "                                                                 target_size=(224, 224),\n",
        "                                                                 color_mode='rgb',\n",
        "                                                                 class_mode='categorical',\n",
        "                                                                 batch_size=32)"
      ],
      "metadata": {
        "id": "f_1qdy_LiDrG",
        "colab": {
          "base_uri": "https://localhost:8080/"
        },
        "outputId": "bed63f1d-f257-4097-8b1d-3147d2c4f0f1"
      },
      "execution_count": 9,
      "outputs": [
        {
          "output_type": "stream",
          "name": "stdout",
          "text": [
            "Found 3453 validated image filenames belonging to 5 classes.\n",
            "Found 864 validated image filenames belonging to 5 classes.\n"
          ]
        }
      ]
    },
    {
      "cell_type": "markdown",
      "source": [
        "##Train my own model"
      ],
      "metadata": {
        "id": "vXboL1c5r6c-"
      }
    },
    {
      "cell_type": "code",
      "source": [
        "def my_model(summary=False):\n",
        "  input = layers.Input(shape=(224,224,3))\n",
        "\n",
        "  x = layers.Conv2D(32, (3,3), kernel_initializer='he_normal', activation='relu')(input)\n",
        "  x = layers.Conv2D(32, (3,3), kernel_initializer='he_normal', activation='relu')(x)\n",
        "  x = layers.MaxPooling2D((2,2))(x)\n",
        "  x = layers.Dropout(0.3)(x)\n",
        "\n",
        "  x = layers.Conv2D(64, (3,3), kernel_initializer='he_normal', activation='relu', padding='same')(x)\n",
        "  x = layers.Conv2D(64, (3,3), kernel_initializer='he_normal', activation='relu', padding='same')(x)\n",
        "  x = layers.MaxPooling2D((2,2))(x)\n",
        "  x = layers.Dropout(0.3)(x)\n",
        "\n",
        "  x = layers.Conv2D(128, (3,3), kernel_initializer='he_normal', activation='relu', padding='same')(x)\n",
        "  x = layers.Conv2D(128, (3,3), kernel_initializer='he_normal', activation='relu', padding='same')(x)\n",
        "  x = layers.Conv2D(128, (3,3), kernel_initializer='he_normal', activation='relu', padding='same')(x)\n",
        "  x = layers.MaxPooling2D((2,2))(x)\n",
        "  x = layers.Dropout(0.4)(x)\n",
        "\n",
        "  x = layers.Conv2D(256, (3,3), kernel_initializer='he_normal', activation='relu')(x)\n",
        "  x = layers.Conv2D(256, (3,3), kernel_initializer='he_normal', activation='relu')(x)\n",
        "  x = layers.Conv2D(256, (3,3), kernel_initializer='he_normal', activation='relu')(x)\n",
        "  x = layers.MaxPooling2D((2,2))(x)\n",
        "  x = layers.Dropout(0.4)(x)\n",
        "\n",
        "  x = layers.Conv2D(512, (3,3), kernel_initializer='he_normal', activation='relu')(x)\n",
        "  x = layers.Conv2D(512, (3,3), kernel_initializer='he_normal', activation='relu')(x)\n",
        "  x = layers.Conv2D(512, (3,3), kernel_initializer='he_normal', activation='relu')(x)\n",
        "  x = layers.MaxPooling2D((2,2))(x)\n",
        "  x = layers.Dropout(0.5)(x)\n",
        "\n",
        "  x = layers.Flatten()(x)\n",
        "  x = layers.Dense(1024, kernel_initializer='he_normal', activation='relu')(x)\n",
        "  x = layers.BatchNormalization()(x)\n",
        "  x = layers.Dense(1024, kernel_initializer='he_normal', activation='relu')(x)\n",
        "  x = layers.BatchNormalization()(x)\n",
        "  x = layers.Dropout(0.5)(x)\n",
        "\n",
        "  output = layers.Dense(5, activation='softmax')(x)\n",
        "\n",
        "  model = Model(input, output)\n",
        "  model.compile(optimizer='adam', loss='categorical_crossentropy', metrics=['accuracy'])\n",
        "\n",
        "  if summary:\n",
        "    print(model.summary())\n",
        "    \n",
        "  return model"
      ],
      "metadata": {
        "id": "ZqQGHnRMzzG_"
      },
      "execution_count": null,
      "outputs": []
    },
    {
      "cell_type": "code",
      "source": [
        "model_own = my_model(summary=True)"
      ],
      "metadata": {
        "id": "X0RW-mgKlXzx",
        "colab": {
          "base_uri": "https://localhost:8080/"
        },
        "outputId": "19a3c2dc-2c7d-4660-a0ac-d32310878f3b"
      },
      "execution_count": null,
      "outputs": [
        {
          "output_type": "stream",
          "name": "stdout",
          "text": [
            "Model: \"model_5\"\n",
            "_________________________________________________________________\n",
            " Layer (type)                Output Shape              Param #   \n",
            "=================================================================\n",
            " input_6 (InputLayer)        [(None, 224, 224, 3)]     0         \n",
            "                                                                 \n",
            " conv2d_64 (Conv2D)          (None, 222, 222, 32)      896       \n",
            "                                                                 \n",
            " conv2d_65 (Conv2D)          (None, 220, 220, 32)      9248      \n",
            "                                                                 \n",
            " max_pooling2d_25 (MaxPoolin  (None, 110, 110, 32)     0         \n",
            " g2D)                                                            \n",
            "                                                                 \n",
            " dropout_30 (Dropout)        (None, 110, 110, 32)      0         \n",
            "                                                                 \n",
            " conv2d_66 (Conv2D)          (None, 110, 110, 64)      18496     \n",
            "                                                                 \n",
            " conv2d_67 (Conv2D)          (None, 110, 110, 64)      36928     \n",
            "                                                                 \n",
            " max_pooling2d_26 (MaxPoolin  (None, 55, 55, 64)       0         \n",
            " g2D)                                                            \n",
            "                                                                 \n",
            " dropout_31 (Dropout)        (None, 55, 55, 64)        0         \n",
            "                                                                 \n",
            " conv2d_68 (Conv2D)          (None, 55, 55, 128)       73856     \n",
            "                                                                 \n",
            " conv2d_69 (Conv2D)          (None, 55, 55, 128)       147584    \n",
            "                                                                 \n",
            " conv2d_70 (Conv2D)          (None, 55, 55, 128)       147584    \n",
            "                                                                 \n",
            " max_pooling2d_27 (MaxPoolin  (None, 27, 27, 128)      0         \n",
            " g2D)                                                            \n",
            "                                                                 \n",
            " dropout_32 (Dropout)        (None, 27, 27, 128)       0         \n",
            "                                                                 \n",
            " conv2d_71 (Conv2D)          (None, 25, 25, 256)       295168    \n",
            "                                                                 \n",
            " conv2d_72 (Conv2D)          (None, 23, 23, 256)       590080    \n",
            "                                                                 \n",
            " conv2d_73 (Conv2D)          (None, 21, 21, 256)       590080    \n",
            "                                                                 \n",
            " max_pooling2d_28 (MaxPoolin  (None, 10, 10, 256)      0         \n",
            " g2D)                                                            \n",
            "                                                                 \n",
            " dropout_33 (Dropout)        (None, 10, 10, 256)       0         \n",
            "                                                                 \n",
            " conv2d_74 (Conv2D)          (None, 8, 8, 512)         1180160   \n",
            "                                                                 \n",
            " conv2d_75 (Conv2D)          (None, 6, 6, 512)         2359808   \n",
            "                                                                 \n",
            " conv2d_76 (Conv2D)          (None, 4, 4, 512)         2359808   \n",
            "                                                                 \n",
            " max_pooling2d_29 (MaxPoolin  (None, 2, 2, 512)        0         \n",
            " g2D)                                                            \n",
            "                                                                 \n",
            " dropout_34 (Dropout)        (None, 2, 2, 512)         0         \n",
            "                                                                 \n",
            " flatten_5 (Flatten)         (None, 2048)              0         \n",
            "                                                                 \n",
            " dense_15 (Dense)            (None, 1024)              2098176   \n",
            "                                                                 \n",
            " batch_normalization_8 (Batc  (None, 1024)             4096      \n",
            " hNormalization)                                                 \n",
            "                                                                 \n",
            " dense_16 (Dense)            (None, 1024)              1049600   \n",
            "                                                                 \n",
            " batch_normalization_9 (Batc  (None, 1024)             4096      \n",
            " hNormalization)                                                 \n",
            "                                                                 \n",
            " dropout_35 (Dropout)        (None, 1024)              0         \n",
            "                                                                 \n",
            " dense_17 (Dense)            (None, 5)                 5125      \n",
            "                                                                 \n",
            "=================================================================\n",
            "Total params: 10,970,789\n",
            "Trainable params: 10,966,693\n",
            "Non-trainable params: 4,096\n",
            "_________________________________________________________________\n",
            "None\n"
          ]
        }
      ]
    },
    {
      "cell_type": "code",
      "source": [
        "start_tra = perf_counter()\n",
        "history = model_own.fit(train_ds, epochs=20, batch_size=128, validation_data=test_ds)\n",
        "end_tra = perf_counter()\n",
        "\n",
        "time = round((end_tra-start_tra), 2)\n",
        "print('train phase time: ', time)"
      ],
      "metadata": {
        "id": "LBHKBIyKlqb7",
        "colab": {
          "base_uri": "https://localhost:8080/"
        },
        "outputId": "d86e3278-20a7-4ce1-af50-aabf735dd9ee"
      },
      "execution_count": null,
      "outputs": [
        {
          "output_type": "stream",
          "name": "stdout",
          "text": [
            "Epoch 1/20\n",
            "108/108 [==============================] - 25s 217ms/step - loss: 2.2147 - accuracy: 0.3145 - val_loss: 2.3817 - val_accuracy: 0.3623\n",
            "Epoch 2/20\n",
            "108/108 [==============================] - 23s 213ms/step - loss: 1.6949 - accuracy: 0.3510 - val_loss: 3.3407 - val_accuracy: 0.3900\n",
            "Epoch 3/20\n",
            "108/108 [==============================] - 23s 209ms/step - loss: 1.6561 - accuracy: 0.3469 - val_loss: 1.5701 - val_accuracy: 0.3356\n",
            "Epoch 4/20\n",
            "108/108 [==============================] - 25s 227ms/step - loss: 1.5500 - accuracy: 0.3516 - val_loss: 1.4731 - val_accuracy: 0.3044\n",
            "Epoch 5/20\n",
            "108/108 [==============================] - 23s 215ms/step - loss: 1.5226 - accuracy: 0.3637 - val_loss: 1.2772 - val_accuracy: 0.4039\n",
            "Epoch 6/20\n",
            "108/108 [==============================] - 23s 210ms/step - loss: 1.4696 - accuracy: 0.3872 - val_loss: 1.5798 - val_accuracy: 0.2824\n",
            "Epoch 7/20\n",
            "108/108 [==============================] - 23s 212ms/step - loss: 1.3926 - accuracy: 0.4075 - val_loss: 1.3442 - val_accuracy: 0.3970\n",
            "Epoch 8/20\n",
            "108/108 [==============================] - 23s 209ms/step - loss: 1.3918 - accuracy: 0.3976 - val_loss: 1.5022 - val_accuracy: 0.2975\n",
            "Epoch 9/20\n",
            "108/108 [==============================] - 23s 208ms/step - loss: 1.3731 - accuracy: 0.4017 - val_loss: 1.9155 - val_accuracy: 0.2662\n",
            "Epoch 10/20\n",
            "108/108 [==============================] - 23s 214ms/step - loss: 1.3619 - accuracy: 0.4098 - val_loss: 1.3572 - val_accuracy: 0.3588\n",
            "Epoch 11/20\n",
            "108/108 [==============================] - 23s 208ms/step - loss: 1.3509 - accuracy: 0.4248 - val_loss: 1.2837 - val_accuracy: 0.4479\n",
            "Epoch 12/20\n",
            "108/108 [==============================] - 23s 210ms/step - loss: 1.3029 - accuracy: 0.4387 - val_loss: 1.3677 - val_accuracy: 0.3738\n",
            "Epoch 13/20\n",
            "108/108 [==============================] - 23s 209ms/step - loss: 1.3217 - accuracy: 0.4318 - val_loss: 1.2845 - val_accuracy: 0.4375\n",
            "Epoch 14/20\n",
            "108/108 [==============================] - 23s 211ms/step - loss: 1.3106 - accuracy: 0.4353 - val_loss: 1.2122 - val_accuracy: 0.4653\n",
            "Epoch 15/20\n",
            "108/108 [==============================] - 23s 211ms/step - loss: 1.2560 - accuracy: 0.4532 - val_loss: 1.9132 - val_accuracy: 0.3079\n",
            "Epoch 16/20\n",
            "108/108 [==============================] - 23s 211ms/step - loss: 1.2994 - accuracy: 0.4492 - val_loss: 1.2643 - val_accuracy: 0.4549\n",
            "Epoch 17/20\n",
            "108/108 [==============================] - 23s 214ms/step - loss: 1.2770 - accuracy: 0.4610 - val_loss: 1.2673 - val_accuracy: 0.4873\n",
            "Epoch 18/20\n",
            "108/108 [==============================] - 23s 208ms/step - loss: 1.2449 - accuracy: 0.4842 - val_loss: 1.6981 - val_accuracy: 0.4502\n",
            "Epoch 19/20\n",
            "108/108 [==============================] - 23s 214ms/step - loss: 1.1800 - accuracy: 0.5152 - val_loss: 1.1108 - val_accuracy: 0.5729\n",
            "Epoch 20/20\n",
            "108/108 [==============================] - 23s 215ms/step - loss: 1.1328 - accuracy: 0.5453 - val_loss: 1.0354 - val_accuracy: 0.5718\n",
            "train phase time:  497.92\n"
          ]
        }
      ]
    },
    {
      "cell_type": "code",
      "source": [
        "plt.plot(history.history['loss'], label='train-loss')\n",
        "plt.plot(history.history['val_loss'], label='val-loss')\n",
        "plt.plot(history.history['accuracy'], label='train-acc')\n",
        "plt.plot(history.history['val_accuracy'], label='val-acc')\n",
        "plt.legend()"
      ],
      "metadata": {
        "id": "RbaW1y_Xm3gH",
        "colab": {
          "base_uri": "https://localhost:8080/",
          "height": 282
        },
        "outputId": "ab4a9914-da80-4c24-f52e-281d766aa67f"
      },
      "execution_count": null,
      "outputs": [
        {
          "output_type": "execute_result",
          "data": {
            "text/plain": [
              "<matplotlib.legend.Legend at 0x7f28100a3810>"
            ]
          },
          "metadata": {},
          "execution_count": 49
        },
        {
          "output_type": "display_data",
          "data": {
            "text/plain": [
              "<Figure size 432x288 with 1 Axes>"
            ],
            "image/png": "[encoded data removed]"
          },
          "metadata": {
            "needs_background": "light"
          }
        }
      ]
    },
    {
      "cell_type": "code",
      "source": [
        "score_own = model_own.evaluate(test_ds)[1]"
      ],
      "metadata": {
        "id": "fzK2uODGrsnp",
        "colab": {
          "base_uri": "https://localhost:8080/"
        },
        "outputId": "4af862cc-e505-4616-f21a-e14456374a55"
      },
      "execution_count": null,
      "outputs": [
        {
          "output_type": "stream",
          "name": "stdout",
          "text": [
            "27/27 [==============================] - 3s 109ms/step - loss: 1.0354 - accuracy: 0.5718\n"
          ]
        }
      ]
    },
    {
      "cell_type": "markdown",
      "source": [
        "## TransferLearning Part 1 (Just change the last Dense layer--->to change the number of classes)"
      ],
      "metadata": {
        "id": "Fdq0kVhEsTBk"
      }
    },
    {
      "cell_type": "markdown",
      "source": [
        "Notice that we can not use: vgg_model = VGG16(weights='imagenet',input_shape=(224,224,3), include_top=True, classes=10) because the model just accept imagenet weights when we don't change the number of its classes(1000); otherwise we should train the model on our dataset without imagenet weights and just use VGG's architecture (which is not useful beacuse of the time and low amount of data)"
      ],
      "metadata": {
        "id": "bZpjkqLAzpvS"
      }
    },
    {
      "cell_type": "code",
      "source": [
        "# lest's first look at the complete VGG16 architecture\n",
        "vgg_test = VGG16(weights='imagenet', input_shape=(224,224,3), include_top=True)\n",
        "vgg_test.summary()"
      ],
      "metadata": {
        "id": "qyadKkL61k0x",
        "colab": {
          "base_uri": "https://localhost:8080/"
        },
        "outputId": "4c1f12d5-1f94-41be-f5b0-b941d58ae046"
      },
      "execution_count": null,
      "outputs": [
        {
          "output_type": "stream",
          "name": "stdout",
          "text": [
            "Downloading data from https://storage.googleapis.com/tensorflow/keras-applications/vgg16/vgg16_weights_tf_dim_ordering_tf_kernels.h5\n",
            "553467096/553467096 [==============================] - 3s 0us/step\n",
            "Model: \"vgg16\"\n",
            "_________________________________________________________________\n",
            " Layer (type)                Output Shape              Param #   \n",
            "=================================================================\n",
            " input_7 (InputLayer)        [(None, 224, 224, 3)]     0         \n",
            "                                                                 \n",
            " block1_conv1 (Conv2D)       (None, 224, 224, 64)      1792      \n",
            "                                                                 \n",
            " block1_conv2 (Conv2D)       (None, 224, 224, 64)      36928     \n",
            "                                                                 \n",
            " block1_pool (MaxPooling2D)  (None, 112, 112, 64)      0         \n",
            "                                                                 \n",
            " block2_conv1 (Conv2D)       (None, 112, 112, 128)     73856     \n",
            "                                                                 \n",
            " block2_conv2 (Conv2D)       (None, 112, 112, 128)     147584    \n",
            "                                                                 \n",
            " block2_pool (MaxPooling2D)  (None, 56, 56, 128)       0         \n",
            "                                                                 \n",
            " block3_conv1 (Conv2D)       (None, 56, 56, 256)       295168    \n",
            "                                                                 \n",
            " block3_conv2 (Conv2D)       (None, 56, 56, 256)       590080    \n",
            "                                                                 \n",
            " block3_conv3 (Conv2D)       (None, 56, 56, 256)       590080    \n",
            "                                                                 \n",
            " block3_pool (MaxPooling2D)  (None, 28, 28, 256)       0         \n",
            "                                                                 \n",
            " block4_conv1 (Conv2D)       (None, 28, 28, 512)       1180160   \n",
            "                                                                 \n",
            " block4_conv2 (Conv2D)       (None, 28, 28, 512)       2359808   \n",
            "                                                                 \n",
            " block4_conv3 (Conv2D)       (None, 28, 28, 512)       2359808   \n",
            "                                                                 \n",
            " block4_pool (MaxPooling2D)  (None, 14, 14, 512)       0         \n",
            "                                                                 \n",
            " block5_conv1 (Conv2D)       (None, 14, 14, 512)       2359808   \n",
            "                                                                 \n",
            " block5_conv2 (Conv2D)       (None, 14, 14, 512)       2359808   \n",
            "                                                                 \n",
            " block5_conv3 (Conv2D)       (None, 14, 14, 512)       2359808   \n",
            "                                                                 \n",
            " block5_pool (MaxPooling2D)  (None, 7, 7, 512)         0         \n",
            "                                                                 \n",
            " flatten (Flatten)           (None, 25088)             0         \n",
            "                                                                 \n",
            " fc1 (Dense)                 (None, 4096)              102764544 \n",
            "                                                                 \n",
            " fc2 (Dense)                 (None, 4096)              16781312  \n",
            "                                                                 \n",
            " predictions (Dense)         (None, 1000)              4097000   \n",
            "                                                                 \n",
            "=================================================================\n",
            "Total params: 138,357,544\n",
            "Trainable params: 138,357,544\n",
            "Non-trainable params: 0\n",
            "_________________________________________________________________\n"
          ]
        }
      ]
    },
    {
      "cell_type": "code",
      "source": [
        "def VGG16_1(summary=False):\n",
        "  vgg_model = VGG16(weights='imagenet', input_shape=(224,224,3), include_top=True)\n",
        "\n",
        "  for layer in vgg_model.layers[:]:\n",
        "      layer.trainable = False\n",
        "  # this part is just like:\n",
        "  # vgg_model.trainable = False\n",
        "\n",
        "  # last fully connected layer before Dense(1000) in image net\n",
        "  output = vgg_model.get_layer('fc2').output # this part is just like: output = vgg_model.layers[-2].output\n",
        "  # output = layers.Flatten(name='new_flatten')(output)\n",
        "  output = layers.Dense(5, activation='softmax')(output)\n",
        "\n",
        "  vgg_model = Model(vgg_model.input, output)\n",
        "  vgg_model.compile(optimizer='adam', loss='categorical_crossentropy', metrics=['accuracy'])\n",
        "\n",
        "  if summary:\n",
        "    print(vgg_model.summary())\n",
        "\n",
        "  return vgg_model"
      ],
      "metadata": {
        "id": "oOPYQdwxun7Y"
      },
      "execution_count": null,
      "outputs": []
    },
    {
      "cell_type": "code",
      "source": [
        "vgg_1 = VGG16_1(summary=True)"
      ],
      "metadata": {
        "id": "tWslxytvy87F",
        "colab": {
          "base_uri": "https://localhost:8080/"
        },
        "outputId": "16c0b0ca-21fa-4e79-f68d-4b2157036b76"
      },
      "execution_count": null,
      "outputs": [
        {
          "output_type": "stream",
          "name": "stdout",
          "text": [
            "Model: \"model_6\"\n",
            "_________________________________________________________________\n",
            " Layer (type)                Output Shape              Param #   \n",
            "=================================================================\n",
            " input_8 (InputLayer)        [(None, 224, 224, 3)]     0         \n",
            "                                                                 \n",
            " block1_conv1 (Conv2D)       (None, 224, 224, 64)      1792      \n",
            "                                                                 \n",
            " block1_conv2 (Conv2D)       (None, 224, 224, 64)      36928     \n",
            "                                                                 \n",
            " block1_pool (MaxPooling2D)  (None, 112, 112, 64)      0         \n",
            "                                                                 \n",
            " block2_conv1 (Conv2D)       (None, 112, 112, 128)     73856     \n",
            "                                                                 \n",
            " block2_conv2 (Conv2D)       (None, 112, 112, 128)     147584    \n",
            "                                                                 \n",
            " block2_pool (MaxPooling2D)  (None, 56, 56, 128)       0         \n",
            "                                                                 \n",
            " block3_conv1 (Conv2D)       (None, 56, 56, 256)       295168    \n",
            "                                                                 \n",
            " block3_conv2 (Conv2D)       (None, 56, 56, 256)       590080    \n",
            "                                                                 \n",
            " block3_conv3 (Conv2D)       (None, 56, 56, 256)       590080    \n",
            "                                                                 \n",
            " block3_pool (MaxPooling2D)  (None, 28, 28, 256)       0         \n",
            "                                                                 \n",
            " block4_conv1 (Conv2D)       (None, 28, 28, 512)       1180160   \n",
            "                                                                 \n",
            " block4_conv2 (Conv2D)       (None, 28, 28, 512)       2359808   \n",
            "                                                                 \n",
            " block4_conv3 (Conv2D)       (None, 28, 28, 512)       2359808   \n",
            "                                                                 \n",
            " block4_pool (MaxPooling2D)  (None, 14, 14, 512)       0         \n",
            "                                                                 \n",
            " block5_conv1 (Conv2D)       (None, 14, 14, 512)       2359808   \n",
            "                                                                 \n",
            " block5_conv2 (Conv2D)       (None, 14, 14, 512)       2359808   \n",
            "                                                                 \n",
            " block5_conv3 (Conv2D)       (None, 14, 14, 512)       2359808   \n",
            "                                                                 \n",
            " block5_pool (MaxPooling2D)  (None, 7, 7, 512)         0         \n",
            "                                                                 \n",
            " flatten (Flatten)           (None, 25088)             0         \n",
            "                                                                 \n",
            " fc1 (Dense)                 (None, 4096)              102764544 \n",
            "                                                                 \n",
            " fc2 (Dense)                 (None, 4096)              16781312  \n",
            "                                                                 \n",
            " dense_18 (Dense)            (None, 5)                 20485     \n",
            "                                                                 \n",
            "=================================================================\n",
            "Total params: 134,281,029\n",
            "Trainable params: 20,485\n",
            "Non-trainable params: 134,260,544\n",
            "_________________________________________________________________\n",
            "None\n"
          ]
        }
      ]
    },
    {
      "cell_type": "code",
      "source": [
        "start_tra = perf_counter()\n",
        "history_1 = vgg_1.fit(train_ds, epochs=20, batch_size=128, validation_data=test_ds)\n",
        "end_tra = perf_counter()\n",
        "\n",
        "time = round((end_tra-start_tra), 2)\n",
        "print('train phase time: ', time)"
      ],
      "metadata": {
        "id": "fxRCjeyEzLpz",
        "colab": {
          "base_uri": "https://localhost:8080/"
        },
        "outputId": "0c393ebd-57c0-471f-834f-8f4b40da8fa5"
      },
      "execution_count": null,
      "outputs": [
        {
          "output_type": "stream",
          "name": "stdout",
          "text": [
            "Epoch 1/20\n",
            "108/108 [==============================] - 28s 232ms/step - loss: 1.2214 - accuracy: 0.5407 - val_loss: 0.9234 - val_accuracy: 0.6539\n",
            "Epoch 2/20\n",
            "108/108 [==============================] - 24s 218ms/step - loss: 0.8550 - accuracy: 0.6901 - val_loss: 0.8171 - val_accuracy: 0.7338\n",
            "Epoch 3/20\n",
            "108/108 [==============================] - 23s 209ms/step - loss: 0.7797 - accuracy: 0.7179 - val_loss: 0.7480 - val_accuracy: 0.7211\n",
            "Epoch 4/20\n",
            "108/108 [==============================] - 22s 207ms/step - loss: 0.7148 - accuracy: 0.7428 - val_loss: 0.7409 - val_accuracy: 0.7292\n",
            "Epoch 5/20\n",
            "108/108 [==============================] - 23s 211ms/step - loss: 0.6803 - accuracy: 0.7544 - val_loss: 0.6622 - val_accuracy: 0.7697\n",
            "Epoch 6/20\n",
            "108/108 [==============================] - 23s 211ms/step - loss: 0.6773 - accuracy: 0.7547 - val_loss: 0.7155 - val_accuracy: 0.7361\n",
            "Epoch 7/20\n",
            "108/108 [==============================] - 23s 215ms/step - loss: 0.6131 - accuracy: 0.7851 - val_loss: 0.6426 - val_accuracy: 0.7755\n",
            "Epoch 8/20\n",
            "108/108 [==============================] - 23s 215ms/step - loss: 0.6251 - accuracy: 0.7750 - val_loss: 0.6293 - val_accuracy: 0.7766\n",
            "Epoch 9/20\n",
            "108/108 [==============================] - 22s 208ms/step - loss: 0.5983 - accuracy: 0.7834 - val_loss: 0.6334 - val_accuracy: 0.7789\n",
            "Epoch 10/20\n",
            "108/108 [==============================] - 23s 208ms/step - loss: 0.6029 - accuracy: 0.7813 - val_loss: 0.6162 - val_accuracy: 0.7731\n",
            "Epoch 11/20\n",
            "108/108 [==============================] - 23s 211ms/step - loss: 0.5669 - accuracy: 0.7912 - val_loss: 0.6288 - val_accuracy: 0.7882\n",
            "Epoch 12/20\n",
            "108/108 [==============================] - 23s 211ms/step - loss: 0.5644 - accuracy: 0.7947 - val_loss: 0.7195 - val_accuracy: 0.7535\n",
            "Epoch 13/20\n",
            "108/108 [==============================] - 23s 209ms/step - loss: 0.5425 - accuracy: 0.8083 - val_loss: 0.7256 - val_accuracy: 0.7407\n",
            "Epoch 14/20\n",
            "108/108 [==============================] - 23s 208ms/step - loss: 0.5624 - accuracy: 0.7976 - val_loss: 0.6660 - val_accuracy: 0.7650\n",
            "Epoch 15/20\n",
            "108/108 [==============================] - 23s 211ms/step - loss: 0.5519 - accuracy: 0.7973 - val_loss: 0.6948 - val_accuracy: 0.7569\n",
            "Epoch 16/20\n",
            "108/108 [==============================] - 23s 211ms/step - loss: 0.5190 - accuracy: 0.8100 - val_loss: 0.6692 - val_accuracy: 0.7581\n",
            "Epoch 17/20\n",
            "108/108 [==============================] - 23s 211ms/step - loss: 0.5114 - accuracy: 0.8202 - val_loss: 0.6138 - val_accuracy: 0.7824\n",
            "Epoch 18/20\n",
            "108/108 [==============================] - 23s 209ms/step - loss: 0.5141 - accuracy: 0.8147 - val_loss: 0.6654 - val_accuracy: 0.7662\n",
            "Epoch 19/20\n",
            "108/108 [==============================] - 23s 208ms/step - loss: 0.5116 - accuracy: 0.8144 - val_loss: 0.5992 - val_accuracy: 0.7917\n",
            "Epoch 20/20\n",
            "108/108 [==============================] - 24s 218ms/step - loss: 0.5107 - accuracy: 0.8149 - val_loss: 0.6335 - val_accuracy: 0.7616\n",
            "train phase time:  533.84\n"
          ]
        }
      ]
    },
    {
      "cell_type": "code",
      "source": [
        "plt.plot(history_1.history['loss'], label='train-loss')\n",
        "plt.plot(history_1.history['val_loss'], label='val-loss')\n",
        "plt.plot(history_1.history['accuracy'], label='train-acc')\n",
        "plt.plot(history_1.history['val_accuracy'], label='val-acc')\n",
        "plt.legend()"
      ],
      "metadata": {
        "id": "3MW-_GGb2i0v",
        "colab": {
          "base_uri": "https://localhost:8080/",
          "height": 282
        },
        "outputId": "e1da0f4b-4dd1-47d5-ac8e-93321a05cd18"
      },
      "execution_count": null,
      "outputs": [
        {
          "output_type": "execute_result",
          "data": {
            "text/plain": [
              "<matplotlib.legend.Legend at 0x7f25211a8f90>"
            ]
          },
          "metadata": {},
          "execution_count": 37
        },
        {
          "output_type": "display_data",
          "data": {
            "text/plain": [
              "<Figure size 432x288 with 1 Axes>"
            ],
            "image/png": "[encoded data removed]"
          },
          "metadata": {
            "needs_background": "light"
          }
        }
      ]
    },
    {
      "cell_type": "code",
      "source": [
        "score_vgg1 = vgg_1.evaluate(test_ds)[1]"
      ],
      "metadata": {
        "id": "MWkY7MruzQDu",
        "colab": {
          "base_uri": "https://localhost:8080/"
        },
        "outputId": "b869fa5b-4158-4897-9d70-03d2177ca2fc"
      },
      "execution_count": null,
      "outputs": [
        {
          "output_type": "stream",
          "name": "stdout",
          "text": [
            "27/27 [==============================] - 5s 168ms/step - loss: 0.6335 - accuracy: 0.7616\n"
          ]
        }
      ]
    },
    {
      "cell_type": "markdown",
      "source": [
        "## TransferLearning Part 2 (Change the last Layer and add some dense/dropout layers too)"
      ],
      "metadata": {
        "id": "-3YkosXS1Drv"
      }
    },
    {
      "cell_type": "code",
      "source": [
        "def VGG16_2(summary=False):\n",
        "  vgg_model = VGG16(weights='imagenet', input_shape=(224,224,3), include_top=True)\n",
        "\n",
        "  for layer in vgg_model.layers[:]:\n",
        "      layer.trainable = False\n",
        "  # this part is just like: vgg_model.trainable = False\n",
        "\n",
        "  # last fully connected layer before Dense(1000) in image net\n",
        "  output = vgg_model.get_layer('fc2').output # this part is just like: output = vgg_model.layers[-2].output\n",
        "  # output = layers.Flatten(name='new_flatten')(output)\n",
        "  output = layers.Dense(1024, activation='relu',kernel_initializer='he_normal', name='first_new_fc')(output)\n",
        "  output = layers.Dense(1024, activation='relu',kernel_initializer='he_normal', name='last_new_fc')(output)\n",
        "  output = layers.Dropout(0.3)(output)\n",
        "  output = layers.Dense(5, activation='softmax')(output)\n",
        "\n",
        "  vgg_model = Model(vgg_model.input, output)\n",
        "  vgg_model.compile(optimizer='adam', loss='categorical_crossentropy', metrics=['accuracy'])\n",
        "\n",
        "  if summary:\n",
        "    print(vgg_model.summary())\n",
        "\n",
        "  return vgg_model"
      ],
      "metadata": {
        "id": "C75MWg3V1PkV"
      },
      "execution_count": null,
      "outputs": []
    },
    {
      "cell_type": "code",
      "source": [
        "vgg_2 = VGG16_2(summary=True)"
      ],
      "metadata": {
        "id": "ERNCc-Ft2Ofl",
        "colab": {
          "base_uri": "https://localhost:8080/"
        },
        "outputId": "1f479104-5299-4ed7-d463-fd82754b8550"
      },
      "execution_count": null,
      "outputs": [
        {
          "output_type": "stream",
          "name": "stdout",
          "text": [
            "Model: \"model_7\"\n",
            "_________________________________________________________________\n",
            " Layer (type)                Output Shape              Param #   \n",
            "=================================================================\n",
            " input_9 (InputLayer)        [(None, 224, 224, 3)]     0         \n",
            "                                                                 \n",
            " block1_conv1 (Conv2D)       (None, 224, 224, 64)      1792      \n",
            "                                                                 \n",
            " block1_conv2 (Conv2D)       (None, 224, 224, 64)      36928     \n",
            "                                                                 \n",
            " block1_pool (MaxPooling2D)  (None, 112, 112, 64)      0         \n",
            "                                                                 \n",
            " block2_conv1 (Conv2D)       (None, 112, 112, 128)     73856     \n",
            "                                                                 \n",
            " block2_conv2 (Conv2D)       (None, 112, 112, 128)     147584    \n",
            "                                                                 \n",
            " block2_pool (MaxPooling2D)  (None, 56, 56, 128)       0         \n",
            "                                                                 \n",
            " block3_conv1 (Conv2D)       (None, 56, 56, 256)       295168    \n",
            "                                                                 \n",
            " block3_conv2 (Conv2D)       (None, 56, 56, 256)       590080    \n",
            "                                                                 \n",
            " block3_conv3 (Conv2D)       (None, 56, 56, 256)       590080    \n",
            "                                                                 \n",
            " block3_pool (MaxPooling2D)  (None, 28, 28, 256)       0         \n",
            "                                                                 \n",
            " block4_conv1 (Conv2D)       (None, 28, 28, 512)       1180160   \n",
            "                                                                 \n",
            " block4_conv2 (Conv2D)       (None, 28, 28, 512)       2359808   \n",
            "                                                                 \n",
            " block4_conv3 (Conv2D)       (None, 28, 28, 512)       2359808   \n",
            "                                                                 \n",
            " block4_pool (MaxPooling2D)  (None, 14, 14, 512)       0         \n",
            "                                                                 \n",
            " block5_conv1 (Conv2D)       (None, 14, 14, 512)       2359808   \n",
            "                                                                 \n",
            " block5_conv2 (Conv2D)       (None, 14, 14, 512)       2359808   \n",
            "                                                                 \n",
            " block5_conv3 (Conv2D)       (None, 14, 14, 512)       2359808   \n",
            "                                                                 \n",
            " block5_pool (MaxPooling2D)  (None, 7, 7, 512)         0         \n",
            "                                                                 \n",
            " flatten (Flatten)           (None, 25088)             0         \n",
            "                                                                 \n",
            " fc1 (Dense)                 (None, 4096)              102764544 \n",
            "                                                                 \n",
            " fc2 (Dense)                 (None, 4096)              16781312  \n",
            "                                                                 \n",
            " first_new_fc (Dense)        (None, 1024)              4195328   \n",
            "                                                                 \n",
            " last_new_fc (Dense)         (None, 1024)              1049600   \n",
            "                                                                 \n",
            " dropout_36 (Dropout)        (None, 1024)              0         \n",
            "                                                                 \n",
            " dense_19 (Dense)            (None, 5)                 5125      \n",
            "                                                                 \n",
            "=================================================================\n",
            "Total params: 139,510,597\n",
            "Trainable params: 5,250,053\n",
            "Non-trainable params: 134,260,544\n",
            "_________________________________________________________________\n",
            "None\n"
          ]
        }
      ]
    },
    {
      "cell_type": "code",
      "source": [
        "start_tra = perf_counter()\n",
        "history_2 = vgg_2.fit(train_ds, epochs=20, batch_size=128, validation_data=test_ds)\n",
        "end_tra = perf_counter()\n",
        "\n",
        "time = round((end_tra-start_tra), 2)\n",
        "print('train phase time: ', time)"
      ],
      "metadata": {
        "id": "1RDAEWOo2Ogf",
        "colab": {
          "base_uri": "https://localhost:8080/"
        },
        "outputId": "36f701c2-2c0a-4c87-c143-253e2a3042a3"
      },
      "execution_count": null,
      "outputs": [
        {
          "output_type": "stream",
          "name": "stdout",
          "text": [
            "Epoch 1/20\n",
            "108/108 [==============================] - 24s 213ms/step - loss: 1.8685 - accuracy: 0.4599 - val_loss: 0.8820 - val_accuracy: 0.6574\n",
            "Epoch 2/20\n",
            "108/108 [==============================] - 24s 219ms/step - loss: 0.9299 - accuracy: 0.6455 - val_loss: 1.0299 - val_accuracy: 0.6192\n",
            "Epoch 3/20\n",
            "108/108 [==============================] - 23s 210ms/step - loss: 0.8288 - accuracy: 0.6869 - val_loss: 0.7778 - val_accuracy: 0.7118\n",
            "Epoch 4/20\n",
            "108/108 [==============================] - 23s 209ms/step - loss: 0.7385 - accuracy: 0.7217 - val_loss: 0.7735 - val_accuracy: 0.7164\n",
            "Epoch 5/20\n",
            "108/108 [==============================] - 23s 211ms/step - loss: 0.7287 - accuracy: 0.7220 - val_loss: 0.7069 - val_accuracy: 0.7616\n",
            "Epoch 6/20\n",
            "108/108 [==============================] - 23s 212ms/step - loss: 0.7264 - accuracy: 0.7298 - val_loss: 0.8574 - val_accuracy: 0.6759\n",
            "Epoch 7/20\n",
            "108/108 [==============================] - 23s 212ms/step - loss: 0.6682 - accuracy: 0.7550 - val_loss: 0.6476 - val_accuracy: 0.7766\n",
            "Epoch 8/20\n",
            "108/108 [==============================] - 23s 214ms/step - loss: 0.6160 - accuracy: 0.7741 - val_loss: 0.8214 - val_accuracy: 0.7199\n",
            "Epoch 9/20\n",
            "108/108 [==============================] - 23s 211ms/step - loss: 0.6109 - accuracy: 0.7721 - val_loss: 0.5929 - val_accuracy: 0.7789\n",
            "Epoch 10/20\n",
            "108/108 [==============================] - 23s 212ms/step - loss: 0.5711 - accuracy: 0.7973 - val_loss: 0.6274 - val_accuracy: 0.7697\n",
            "Epoch 11/20\n",
            "108/108 [==============================] - 23s 212ms/step - loss: 0.5787 - accuracy: 0.7871 - val_loss: 0.6556 - val_accuracy: 0.7627\n",
            "Epoch 12/20\n",
            "108/108 [==============================] - 23s 211ms/step - loss: 0.5544 - accuracy: 0.7889 - val_loss: 0.6638 - val_accuracy: 0.7593\n",
            "Epoch 13/20\n",
            "108/108 [==============================] - 23s 212ms/step - loss: 0.5565 - accuracy: 0.7921 - val_loss: 0.6348 - val_accuracy: 0.7627\n",
            "Epoch 14/20\n",
            "108/108 [==============================] - 23s 211ms/step - loss: 0.5078 - accuracy: 0.8141 - val_loss: 0.6051 - val_accuracy: 0.7870\n",
            "Epoch 15/20\n",
            "108/108 [==============================] - 23s 212ms/step - loss: 0.5184 - accuracy: 0.8080 - val_loss: 0.5988 - val_accuracy: 0.7963\n",
            "Epoch 16/20\n",
            "108/108 [==============================] - 23s 211ms/step - loss: 0.5548 - accuracy: 0.7889 - val_loss: 0.5782 - val_accuracy: 0.8102\n",
            "Epoch 17/20\n",
            "108/108 [==============================] - 23s 211ms/step - loss: 0.5060 - accuracy: 0.8132 - val_loss: 0.5698 - val_accuracy: 0.7928\n",
            "Epoch 18/20\n",
            "108/108 [==============================] - 23s 211ms/step - loss: 0.5055 - accuracy: 0.8092 - val_loss: 0.6448 - val_accuracy: 0.7847\n",
            "Epoch 19/20\n",
            "108/108 [==============================] - 23s 211ms/step - loss: 0.4832 - accuracy: 0.8207 - val_loss: 0.6502 - val_accuracy: 0.7812\n",
            "Epoch 20/20\n",
            "108/108 [==============================] - 23s 211ms/step - loss: 0.4475 - accuracy: 0.8361 - val_loss: 0.5708 - val_accuracy: 0.7928\n",
            "train phase time:  477.81\n"
          ]
        }
      ]
    },
    {
      "cell_type": "code",
      "source": [
        "plt.plot(history_2.history['loss'], label='train-loss')\n",
        "plt.plot(history_2.history['val_loss'], label='val-loss')\n",
        "plt.plot(history_2.history['accuracy'], label='train-acc')\n",
        "plt.plot(history_2.history['val_accuracy'], label='val-acc')\n",
        "plt.legend()"
      ],
      "metadata": {
        "id": "jhmUdb2K2m3q",
        "colab": {
          "base_uri": "https://localhost:8080/",
          "height": 282
        },
        "outputId": "dbede642-27b5-4ff0-e341-ee1e2027e530"
      },
      "execution_count": null,
      "outputs": [
        {
          "output_type": "execute_result",
          "data": {
            "text/plain": [
              "<matplotlib.legend.Legend at 0x7f251d65ec50>"
            ]
          },
          "metadata": {},
          "execution_count": 42
        },
        {
          "output_type": "display_data",
          "data": {
            "text/plain": [
              "<Figure size 432x288 with 1 Axes>"
            ],
            "image/png": "[encoded data removed]"
          },
          "metadata": {
            "needs_background": "light"
          }
        }
      ]
    },
    {
      "cell_type": "code",
      "source": [
        "score_vgg2 = vgg_2.evaluate(test_ds)[1]"
      ],
      "metadata": {
        "id": "rpgEcwLr2UO7",
        "colab": {
          "base_uri": "https://localhost:8080/"
        },
        "outputId": "ca8833cd-6c20-4cde-ad40-91704e0a6b66"
      },
      "execution_count": null,
      "outputs": [
        {
          "output_type": "stream",
          "name": "stdout",
          "text": [
            "27/27 [==============================] - 5s 163ms/step - loss: 0.5708 - accuracy: 0.7928\n"
          ]
        }
      ]
    },
    {
      "cell_type": "markdown",
      "source": [
        "## TransferLearning Part 3 (Open the last trainable layers and add some dense/dropout layers)"
      ],
      "metadata": {
        "id": "ieuT0lsJ4U-z"
      }
    },
    {
      "cell_type": "code",
      "source": [
        "def VGG16_3(summary=False):\n",
        "  vgg_model = VGG16(weights='imagenet', input_shape=(224,224,3), include_top=True)\n",
        "\n",
        "  for layer in vgg_model.layers[:]:\n",
        "      layer.trainable = False\n",
        "  # this part is just like: vgg_model.trainable = False\n",
        "\n",
        "  # let the layers after last block anf fully connected layers be train\n",
        "  set_trainable = False\n",
        "  for lyr in vgg_model.layers:\n",
        "    if lyr.name=='block5_conv1':\n",
        "      set_trainable=True\n",
        "    lyr.trainable = set_trainable\n",
        "\n",
        "  # last fully connected layer before Dense(1000) in image net\n",
        "  output = vgg_model.get_layer('fc2').output # this part is just like: output = vgg_model.layers[-2].output\n",
        "  output = layers.Flatten(name='new_flatten')(output)\n",
        "  output = layers.Dense(1024, activation='relu',kernel_initializer='he_normal', name='first_new_fc')(output)\n",
        "  output = layers.Dense(1024, activation='relu',kernel_initializer='he_normal', name='last_new_fc')(output)\n",
        "  output = layers.Dropout(0.3)(output)\n",
        "  output = layers.Dense(5, activation='softmax')(output)\n",
        "  vgg_model = Model(vgg_model.input, output)\n",
        "\n",
        "  # vgg_model.get_layer('block5_conv3').trainable = True\n",
        "  # vgg_model.get_layer('fc1').trainable = True\n",
        "  # vgg_model.get_layer('fc2').trainable = True\n",
        "  # vgg_model.get_layer('first_new_fc').trainable = True\n",
        "\n",
        "  vgg_model.compile(optimizer='adam', loss='categorical_crossentropy', metrics=['accuracy'])\n",
        "\n",
        "  if summary:\n",
        "    print(vgg_model.summary())\n",
        "\n",
        "  return vgg_model"
      ],
      "metadata": {
        "id": "8l2XIWTQ3JsI"
      },
      "execution_count": null,
      "outputs": []
    },
    {
      "cell_type": "code",
      "source": [
        "vgg_3 = VGG16_3(summary=True)"
      ],
      "metadata": {
        "id": "uH3IKgFE5Tyg",
        "colab": {
          "base_uri": "https://localhost:8080/"
        },
        "outputId": "11a835ea-d981-4e67-ffe6-ff54ba454cf0"
      },
      "execution_count": null,
      "outputs": [
        {
          "output_type": "stream",
          "name": "stdout",
          "text": [
            "Model: \"model_8\"\n",
            "_________________________________________________________________\n",
            " Layer (type)                Output Shape              Param #   \n",
            "=================================================================\n",
            " input_10 (InputLayer)       [(None, 224, 224, 3)]     0         \n",
            "                                                                 \n",
            " block1_conv1 (Conv2D)       (None, 224, 224, 64)      1792      \n",
            "                                                                 \n",
            " block1_conv2 (Conv2D)       (None, 224, 224, 64)      36928     \n",
            "                                                                 \n",
            " block1_pool (MaxPooling2D)  (None, 112, 112, 64)      0         \n",
            "                                                                 \n",
            " block2_conv1 (Conv2D)       (None, 112, 112, 128)     73856     \n",
            "                                                                 \n",
            " block2_conv2 (Conv2D)       (None, 112, 112, 128)     147584    \n",
            "                                                                 \n",
            " block2_pool (MaxPooling2D)  (None, 56, 56, 128)       0         \n",
            "                                                                 \n",
            " block3_conv1 (Conv2D)       (None, 56, 56, 256)       295168    \n",
            "                                                                 \n",
            " block3_conv2 (Conv2D)       (None, 56, 56, 256)       590080    \n",
            "                                                                 \n",
            " block3_conv3 (Conv2D)       (None, 56, 56, 256)       590080    \n",
            "                                                                 \n",
            " block3_pool (MaxPooling2D)  (None, 28, 28, 256)       0         \n",
            "                                                                 \n",
            " block4_conv1 (Conv2D)       (None, 28, 28, 512)       1180160   \n",
            "                                                                 \n",
            " block4_conv2 (Conv2D)       (None, 28, 28, 512)       2359808   \n",
            "                                                                 \n",
            " block4_conv3 (Conv2D)       (None, 28, 28, 512)       2359808   \n",
            "                                                                 \n",
            " block4_pool (MaxPooling2D)  (None, 14, 14, 512)       0         \n",
            "                                                                 \n",
            " block5_conv1 (Conv2D)       (None, 14, 14, 512)       2359808   \n",
            "                                                                 \n",
            " block5_conv2 (Conv2D)       (None, 14, 14, 512)       2359808   \n",
            "                                                                 \n",
            " block5_conv3 (Conv2D)       (None, 14, 14, 512)       2359808   \n",
            "                                                                 \n",
            " block5_pool (MaxPooling2D)  (None, 7, 7, 512)         0         \n",
            "                                                                 \n",
            " flatten (Flatten)           (None, 25088)             0         \n",
            "                                                                 \n",
            " fc1 (Dense)                 (None, 4096)              102764544 \n",
            "                                                                 \n",
            " fc2 (Dense)                 (None, 4096)              16781312  \n",
            "                                                                 \n",
            " new_flatten (Flatten)       (None, 4096)              0         \n",
            "                                                                 \n",
            " first_new_fc (Dense)        (None, 1024)              4195328   \n",
            "                                                                 \n",
            " last_new_fc (Dense)         (None, 1024)              1049600   \n",
            "                                                                 \n",
            " dropout_37 (Dropout)        (None, 1024)              0         \n",
            "                                                                 \n",
            " dense_20 (Dense)            (None, 5)                 5125      \n",
            "                                                                 \n",
            "=================================================================\n",
            "Total params: 139,510,597\n",
            "Trainable params: 131,875,333\n",
            "Non-trainable params: 7,635,264\n",
            "_________________________________________________________________\n",
            "None\n"
          ]
        }
      ]
    },
    {
      "cell_type": "code",
      "source": [
        "start_tra = perf_counter()\n",
        "history_3 = vgg_3.fit(train_ds, epochs=20, batch_size=128, validation_data=test_ds)\n",
        "end_tra = perf_counter()\n",
        "\n",
        "time = round((end_tra-start_tra), 2)\n",
        "print('train phase time: ', time)"
      ],
      "metadata": {
        "id": "Z6fk_Zi15T5t",
        "colab": {
          "base_uri": "https://localhost:8080/"
        },
        "outputId": "8bb9f8a2-dde2-4dd5-80fe-bf5c8ce299be"
      },
      "execution_count": null,
      "outputs": [
        {
          "output_type": "stream",
          "name": "stdout",
          "text": [
            "Epoch 1/20\n",
            "108/108 [==============================] - 30s 266ms/step - loss: 4.0336 - accuracy: 0.2467 - val_loss: 1.5461 - val_accuracy: 0.2928\n",
            "Epoch 2/20\n",
            "108/108 [==============================] - 28s 259ms/step - loss: 1.4368 - accuracy: 0.3652 - val_loss: 1.2855 - val_accuracy: 0.3681\n",
            "Epoch 3/20\n",
            "108/108 [==============================] - 27s 253ms/step - loss: 1.1390 - accuracy: 0.4697 - val_loss: 1.1752 - val_accuracy: 0.5093\n",
            "Epoch 4/20\n",
            "108/108 [==============================] - 28s 256ms/step - loss: 1.0770 - accuracy: 0.5178 - val_loss: 1.1099 - val_accuracy: 0.6007\n",
            "Epoch 5/20\n",
            "108/108 [==============================] - 28s 257ms/step - loss: 0.9494 - accuracy: 0.5931 - val_loss: 0.8378 - val_accuracy: 0.6285\n",
            "Epoch 6/20\n",
            "108/108 [==============================] - 28s 255ms/step - loss: 0.7919 - accuracy: 0.6887 - val_loss: 0.7945 - val_accuracy: 0.6609\n",
            "Epoch 7/20\n",
            "108/108 [==============================] - 28s 255ms/step - loss: 0.7069 - accuracy: 0.7182 - val_loss: 0.6771 - val_accuracy: 0.7315\n",
            "Epoch 8/20\n",
            "108/108 [==============================] - 28s 256ms/step - loss: 0.5807 - accuracy: 0.7744 - val_loss: 0.7333 - val_accuracy: 0.7581\n",
            "Epoch 9/20\n",
            "108/108 [==============================] - 28s 256ms/step - loss: 0.5718 - accuracy: 0.8022 - val_loss: 0.6626 - val_accuracy: 0.7731\n",
            "Epoch 10/20\n",
            "108/108 [==============================] - 28s 256ms/step - loss: 0.5782 - accuracy: 0.7892 - val_loss: 0.8257 - val_accuracy: 0.6840\n",
            "Epoch 11/20\n",
            "108/108 [==============================] - 28s 256ms/step - loss: 0.5895 - accuracy: 0.7938 - val_loss: 0.6496 - val_accuracy: 0.7350\n",
            "Epoch 12/20\n",
            "108/108 [==============================] - 28s 256ms/step - loss: 0.5709 - accuracy: 0.8138 - val_loss: 0.7055 - val_accuracy: 0.7211\n",
            "Epoch 13/20\n",
            "108/108 [==============================] - 28s 255ms/step - loss: 0.4980 - accuracy: 0.8196 - val_loss: 0.6515 - val_accuracy: 0.7836\n",
            "Epoch 14/20\n",
            "108/108 [==============================] - 28s 255ms/step - loss: 0.3472 - accuracy: 0.8694 - val_loss: 0.6943 - val_accuracy: 0.8160\n",
            "Epoch 15/20\n",
            "108/108 [==============================] - 28s 261ms/step - loss: 0.3026 - accuracy: 0.8952 - val_loss: 0.6681 - val_accuracy: 0.7951\n",
            "Epoch 16/20\n",
            "108/108 [==============================] - 27s 253ms/step - loss: 0.2382 - accuracy: 0.9117 - val_loss: 0.6471 - val_accuracy: 0.8160\n",
            "Epoch 17/20\n",
            "108/108 [==============================] - 28s 259ms/step - loss: 0.2496 - accuracy: 0.9108 - val_loss: 0.8584 - val_accuracy: 0.7812\n",
            "Epoch 18/20\n",
            "108/108 [==============================] - 28s 257ms/step - loss: 0.2266 - accuracy: 0.9238 - val_loss: 0.7728 - val_accuracy: 0.8137\n",
            "Epoch 19/20\n",
            "108/108 [==============================] - 28s 256ms/step - loss: 0.3300 - accuracy: 0.8983 - val_loss: 1.0062 - val_accuracy: 0.7650\n",
            "Epoch 20/20\n",
            "108/108 [==============================] - 28s 254ms/step - loss: 0.2783 - accuracy: 0.9073 - val_loss: 0.8235 - val_accuracy: 0.8056\n",
            "train phase time:  570.01\n"
          ]
        }
      ]
    },
    {
      "cell_type": "code",
      "source": [
        "plt.plot(history_3.history['loss'], label='train-loss')\n",
        "plt.plot(history_3.history['val_loss'], label='val-loss')\n",
        "plt.plot(history_3.history['accuracy'], label='train-acc')\n",
        "plt.plot(history_3.history['val_accuracy'], label='val-acc')\n",
        "plt.legend()"
      ],
      "metadata": {
        "id": "HKIB3-SU5T_2",
        "colab": {
          "base_uri": "https://localhost:8080/",
          "height": 282
        },
        "outputId": "d9c2be7d-4728-41cd-b6e3-a94f845a14f5"
      },
      "execution_count": null,
      "outputs": [
        {
          "output_type": "execute_result",
          "data": {
            "text/plain": [
              "<matplotlib.legend.Legend at 0x7f27bc559590>"
            ]
          },
          "metadata": {},
          "execution_count": 47
        },
        {
          "output_type": "display_data",
          "data": {
            "text/plain": [
              "<Figure size 432x288 with 1 Axes>"
            ],
            "image/png": "[encoded data removed]"
          },
          "metadata": {
            "needs_background": "light"
          }
        }
      ]
    },
    {
      "cell_type": "code",
      "source": [
        "score_vgg3 = vgg_3.evaluate(test_ds)[1]"
      ],
      "metadata": {
        "id": "jKxrxprD5Xwp",
        "colab": {
          "base_uri": "https://localhost:8080/"
        },
        "outputId": "31dad0e2-f694-427c-ec22-86d7f37f1f94"
      },
      "execution_count": null,
      "outputs": [
        {
          "output_type": "stream",
          "name": "stdout",
          "text": [
            "27/27 [==============================] - 5s 167ms/step - loss: 0.8235 - accuracy: 0.8056\n"
          ]
        }
      ]
    },
    {
      "cell_type": "markdown",
      "source": [
        "## TransterLearning Part 4 (Change Fully Connected Layers) "
      ],
      "metadata": {
        "id": "Px3WBbuqr_cJ"
      }
    },
    {
      "cell_type": "code",
      "source": [
        "# lest's first look at the VGG16 architecture without fully Connected \n",
        "vgg_test = VGG16(weights='imagenet', input_shape=(224,224,3), include_top=False)\n",
        "vgg_test.summary()"
      ],
      "metadata": {
        "id": "eAX6yppO6uEM",
        "colab": {
          "base_uri": "https://localhost:8080/"
        },
        "outputId": "8b82ead5-2977-44da-9488-def5be1f1c36"
      },
      "execution_count": null,
      "outputs": [
        {
          "output_type": "stream",
          "name": "stdout",
          "text": [
            "Downloading data from https://storage.googleapis.com/tensorflow/keras-applications/vgg16/vgg16_weights_tf_dim_ordering_tf_kernels_notop.h5\n",
            "58889256/58889256 [==============================] - 0s 0us/step\n",
            "Model: \"vgg16\"\n",
            "_________________________________________________________________\n",
            " Layer (type)                Output Shape              Param #   \n",
            "=================================================================\n",
            " input_11 (InputLayer)       [(None, 224, 224, 3)]     0         \n",
            "                                                                 \n",
            " block1_conv1 (Conv2D)       (None, 224, 224, 64)      1792      \n",
            "                                                                 \n",
            " block1_conv2 (Conv2D)       (None, 224, 224, 64)      36928     \n",
            "                                                                 \n",
            " block1_pool (MaxPooling2D)  (None, 112, 112, 64)      0         \n",
            "                                                                 \n",
            " block2_conv1 (Conv2D)       (None, 112, 112, 128)     73856     \n",
            "                                                                 \n",
            " block2_conv2 (Conv2D)       (None, 112, 112, 128)     147584    \n",
            "                                                                 \n",
            " block2_pool (MaxPooling2D)  (None, 56, 56, 128)       0         \n",
            "                                                                 \n",
            " block3_conv1 (Conv2D)       (None, 56, 56, 256)       295168    \n",
            "                                                                 \n",
            " block3_conv2 (Conv2D)       (None, 56, 56, 256)       590080    \n",
            "                                                                 \n",
            " block3_conv3 (Conv2D)       (None, 56, 56, 256)       590080    \n",
            "                                                                 \n",
            " block3_pool (MaxPooling2D)  (None, 28, 28, 256)       0         \n",
            "                                                                 \n",
            " block4_conv1 (Conv2D)       (None, 28, 28, 512)       1180160   \n",
            "                                                                 \n",
            " block4_conv2 (Conv2D)       (None, 28, 28, 512)       2359808   \n",
            "                                                                 \n",
            " block4_conv3 (Conv2D)       (None, 28, 28, 512)       2359808   \n",
            "                                                                 \n",
            " block4_pool (MaxPooling2D)  (None, 14, 14, 512)       0         \n",
            "                                                                 \n",
            " block5_conv1 (Conv2D)       (None, 14, 14, 512)       2359808   \n",
            "                                                                 \n",
            " block5_conv2 (Conv2D)       (None, 14, 14, 512)       2359808   \n",
            "                                                                 \n",
            " block5_conv3 (Conv2D)       (None, 14, 14, 512)       2359808   \n",
            "                                                                 \n",
            " block5_pool (MaxPooling2D)  (None, 7, 7, 512)         0         \n",
            "                                                                 \n",
            "=================================================================\n",
            "Total params: 14,714,688\n",
            "Trainable params: 14,714,688\n",
            "Non-trainable params: 0\n",
            "_________________________________________________________________\n"
          ]
        }
      ]
    },
    {
      "cell_type": "code",
      "source": [
        "def VGG16_4(summary=False):\n",
        "  vgg_model = VGG16(weights='imagenet', input_shape=(224,224,3), include_top=False)\n",
        "\n",
        "  for layer in vgg_model.layers[:]:\n",
        "      layer.trainable = False\n",
        "  # this part is just like: vgg_model.trainable = False\n",
        "\n",
        "  output = vgg_model.get_layer('block5_pool').output # this part is just like vgg_model.layers[-1].output)\n",
        "  output = layers.Flatten(name='flatten')(output)\n",
        "  output = layers.Dense(1024, activation='relu',kernel_initializer='he_normal', name='fc1')(output)\n",
        "  output = layers.Dense(1024, activation='relu',kernel_initializer='he_normal', name='fc2')(output)\n",
        "  output = layers.Dropout(0.3)(output)\n",
        "  output = layers.Dense(5, activation='softmax')(output)\n",
        "\n",
        "  vgg_model = Model(vgg_model.input, output)\n",
        "  vgg_model.compile(optimizer='adam', loss='categorical_crossentropy', metrics=['accuracy'])\n",
        "\n",
        "  if summary:\n",
        "    print(vgg_model.summary())\n",
        "\n",
        "  return vgg_model"
      ],
      "metadata": {
        "id": "-Vxn9NXj5lNA"
      },
      "execution_count": null,
      "outputs": []
    },
    {
      "cell_type": "code",
      "source": [
        "vgg_4 = VGG16_4(summary=True)"
      ],
      "metadata": {
        "id": "Le80ZUDX7kX6",
        "colab": {
          "base_uri": "https://localhost:8080/"
        },
        "outputId": "cc1c1737-924a-44d2-b164-20f59d085514"
      },
      "execution_count": null,
      "outputs": [
        {
          "output_type": "stream",
          "name": "stdout",
          "text": [
            "Model: \"model_9\"\n",
            "_________________________________________________________________\n",
            " Layer (type)                Output Shape              Param #   \n",
            "=================================================================\n",
            " input_12 (InputLayer)       [(None, 224, 224, 3)]     0         \n",
            "                                                                 \n",
            " block1_conv1 (Conv2D)       (None, 224, 224, 64)      1792      \n",
            "                                                                 \n",
            " block1_conv2 (Conv2D)       (None, 224, 224, 64)      36928     \n",
            "                                                                 \n",
            " block1_pool (MaxPooling2D)  (None, 112, 112, 64)      0         \n",
            "                                                                 \n",
            " block2_conv1 (Conv2D)       (None, 112, 112, 128)     73856     \n",
            "                                                                 \n",
            " block2_conv2 (Conv2D)       (None, 112, 112, 128)     147584    \n",
            "                                                                 \n",
            " block2_pool (MaxPooling2D)  (None, 56, 56, 128)       0         \n",
            "                                                                 \n",
            " block3_conv1 (Conv2D)       (None, 56, 56, 256)       295168    \n",
            "                                                                 \n",
            " block3_conv2 (Conv2D)       (None, 56, 56, 256)       590080    \n",
            "                                                                 \n",
            " block3_conv3 (Conv2D)       (None, 56, 56, 256)       590080    \n",
            "                                                                 \n",
            " block3_pool (MaxPooling2D)  (None, 28, 28, 256)       0         \n",
            "                                                                 \n",
            " block4_conv1 (Conv2D)       (None, 28, 28, 512)       1180160   \n",
            "                                                                 \n",
            " block4_conv2 (Conv2D)       (None, 28, 28, 512)       2359808   \n",
            "                                                                 \n",
            " block4_conv3 (Conv2D)       (None, 28, 28, 512)       2359808   \n",
            "                                                                 \n",
            " block4_pool (MaxPooling2D)  (None, 14, 14, 512)       0         \n",
            "                                                                 \n",
            " block5_conv1 (Conv2D)       (None, 14, 14, 512)       2359808   \n",
            "                                                                 \n",
            " block5_conv2 (Conv2D)       (None, 14, 14, 512)       2359808   \n",
            "                                                                 \n",
            " block5_conv3 (Conv2D)       (None, 14, 14, 512)       2359808   \n",
            "                                                                 \n",
            " block5_pool (MaxPooling2D)  (None, 7, 7, 512)         0         \n",
            "                                                                 \n",
            " flatten (Flatten)           (None, 25088)             0         \n",
            "                                                                 \n",
            " fc1 (Dense)                 (None, 1024)              25691136  \n",
            "                                                                 \n",
            " fc2 (Dense)                 (None, 1024)              1049600   \n",
            "                                                                 \n",
            " dropout_38 (Dropout)        (None, 1024)              0         \n",
            "                                                                 \n",
            " dense_21 (Dense)            (None, 5)                 5125      \n",
            "                                                                 \n",
            "=================================================================\n",
            "Total params: 41,460,549\n",
            "Trainable params: 26,745,861\n",
            "Non-trainable params: 14,714,688\n",
            "_________________________________________________________________\n",
            "None\n"
          ]
        }
      ]
    },
    {
      "cell_type": "code",
      "source": [
        "start_tra = perf_counter()\n",
        "history_4 = vgg_4.fit(train_ds, epochs=20, batch_size=128, validation_data=test_ds)\n",
        "end_tra = perf_counter()\n",
        "\n",
        "time = round((end_tra-start_tra), 2)\n",
        "print('train phase time: ', time)"
      ],
      "metadata": {
        "id": "Vz74tLOz7mmP",
        "colab": {
          "base_uri": "https://localhost:8080/"
        },
        "outputId": "6971f025-04d6-47da-f16b-69566d3df20e"
      },
      "execution_count": null,
      "outputs": [
        {
          "output_type": "stream",
          "name": "stdout",
          "text": [
            "Epoch 1/20\n",
            "108/108 [==============================] - 24s 213ms/step - loss: 1.6280 - accuracy: 0.6241 - val_loss: 0.5828 - val_accuracy: 0.7917\n",
            "Epoch 2/20\n",
            "108/108 [==============================] - 24s 221ms/step - loss: 0.4412 - accuracy: 0.8375 - val_loss: 0.6954 - val_accuracy: 0.7650\n",
            "Epoch 3/20\n",
            "108/108 [==============================] - 23s 213ms/step - loss: 0.2402 - accuracy: 0.9192 - val_loss: 0.7970 - val_accuracy: 0.7720\n",
            "Epoch 4/20\n",
            "108/108 [==============================] - 23s 210ms/step - loss: 0.1819 - accuracy: 0.9285 - val_loss: 0.7100 - val_accuracy: 0.7847\n",
            "Epoch 5/20\n",
            "108/108 [==============================] - 23s 213ms/step - loss: 0.1122 - accuracy: 0.9580 - val_loss: 0.9172 - val_accuracy: 0.7697\n",
            "Epoch 6/20\n",
            "108/108 [==============================] - 24s 217ms/step - loss: 0.1116 - accuracy: 0.9624 - val_loss: 0.7753 - val_accuracy: 0.8056\n",
            "Epoch 7/20\n",
            "108/108 [==============================] - 23s 212ms/step - loss: 0.0784 - accuracy: 0.9760 - val_loss: 0.7967 - val_accuracy: 0.8229\n",
            "Epoch 8/20\n",
            "108/108 [==============================] - 23s 211ms/step - loss: 0.0343 - accuracy: 0.9890 - val_loss: 0.9655 - val_accuracy: 0.8125\n",
            "Epoch 9/20\n",
            "108/108 [==============================] - 23s 214ms/step - loss: 0.0279 - accuracy: 0.9904 - val_loss: 0.8960 - val_accuracy: 0.8218\n",
            "Epoch 10/20\n",
            "108/108 [==============================] - 23s 212ms/step - loss: 0.0363 - accuracy: 0.9887 - val_loss: 1.0288 - val_accuracy: 0.8125\n",
            "Epoch 11/20\n",
            "108/108 [==============================] - 23s 214ms/step - loss: 0.0567 - accuracy: 0.9812 - val_loss: 1.1161 - val_accuracy: 0.8148\n",
            "Epoch 12/20\n",
            "108/108 [==============================] - 23s 214ms/step - loss: 0.0350 - accuracy: 0.9873 - val_loss: 0.9307 - val_accuracy: 0.8287\n",
            "Epoch 13/20\n",
            "108/108 [==============================] - 23s 213ms/step - loss: 0.0380 - accuracy: 0.9873 - val_loss: 1.2148 - val_accuracy: 0.7940\n",
            "Epoch 14/20\n",
            "108/108 [==============================] - 23s 214ms/step - loss: 0.0398 - accuracy: 0.9864 - val_loss: 1.0729 - val_accuracy: 0.7928\n",
            "Epoch 15/20\n",
            "108/108 [==============================] - 23s 213ms/step - loss: 0.0232 - accuracy: 0.9922 - val_loss: 1.3212 - val_accuracy: 0.8067\n",
            "Epoch 16/20\n",
            "108/108 [==============================] - 23s 213ms/step - loss: 0.0399 - accuracy: 0.9875 - val_loss: 1.4211 - val_accuracy: 0.7500\n",
            "Epoch 17/20\n",
            "108/108 [==============================] - 23s 212ms/step - loss: 0.0208 - accuracy: 0.9945 - val_loss: 1.4625 - val_accuracy: 0.8009\n",
            "Epoch 18/20\n",
            "108/108 [==============================] - 23s 215ms/step - loss: 0.1216 - accuracy: 0.9635 - val_loss: 0.9907 - val_accuracy: 0.8125\n",
            "Epoch 19/20\n",
            "108/108 [==============================] - 23s 213ms/step - loss: 0.0393 - accuracy: 0.9878 - val_loss: 1.0513 - val_accuracy: 0.7975\n",
            "Epoch 20/20\n",
            "108/108 [==============================] - 23s 213ms/step - loss: 0.0114 - accuracy: 0.9951 - val_loss: 1.1351 - val_accuracy: 0.8252\n",
            "train phase time:  463.31\n"
          ]
        }
      ]
    },
    {
      "cell_type": "code",
      "source": [
        "plt.plot(history_4.history['loss'], label='train-loss')\n",
        "plt.plot(history_4.history['val_loss'], label='val-loss')\n",
        "plt.plot(history_4.history['accuracy'], label='train-acc')\n",
        "plt.plot(history_4.history['val_accuracy'], label='val-acc')\n",
        "plt.legend()"
      ],
      "metadata": {
        "id": "oIuUXIeh7nz6",
        "colab": {
          "base_uri": "https://localhost:8080/",
          "height": 282
        },
        "outputId": "089425a2-a41b-41e3-8160-2f42634c928c"
      },
      "execution_count": null,
      "outputs": [
        {
          "output_type": "execute_result",
          "data": {
            "text/plain": [
              "<matplotlib.legend.Legend at 0x7f27a6128050>"
            ]
          },
          "metadata": {},
          "execution_count": 54
        },
        {
          "output_type": "display_data",
          "data": {
            "text/plain": [
              "<Figure size 432x288 with 1 Axes>"
            ],
            "image/png": "[encoded data removed]"
          },
          "metadata": {
            "needs_background": "light"
          }
        }
      ]
    },
    {
      "cell_type": "code",
      "source": [
        "score_vgg4 = vgg_4.evaluate(test_ds)[1]"
      ],
      "metadata": {
        "id": "yAqomZn-7pEx",
        "colab": {
          "base_uri": "https://localhost:8080/"
        },
        "outputId": "3c1fa5e9-15d9-4368-b84c-69e3bff839ce"
      },
      "execution_count": null,
      "outputs": [
        {
          "output_type": "stream",
          "name": "stdout",
          "text": [
            "27/27 [==============================] - 5s 165ms/step - loss: 1.1351 - accuracy: 0.8252\n"
          ]
        }
      ]
    },
    {
      "cell_type": "code",
      "source": [
        "def anotherVGG16_4(summary=False):\n",
        "\n",
        "  vgg_model = VGG16(weights='imagenet', input_shape=(224,224,3), include_top=False)\n",
        "  vgg_model.trainable = False\n",
        "\n",
        "  inputs = layers.Input(shape=(224,224,3))\n",
        "  x = vgg_model(inputs, training=False)\n",
        "  x = layers.GlobalAveragePooling2D()(x)\n",
        "  x = layers.Dense(1024, activation='relu', kernel_initializer='he_normal')(x)\n",
        "  x = layers.Dense(1024, activation='relu', kernel_initializer='he_normal')(x)\n",
        "  x = layers.Dropout(0.3)(x)\n",
        "  prediction = layers.Dense(5, activation='softmax')(x)\n",
        "\n",
        "  model = Model(inputs=inputs, outputs=prediction)\n",
        "  model.compile(optimizer='adam',loss='categorical_crossentropy',metrics=['accuracy'])\n",
        "\n",
        "  if summary:\n",
        "    print(model.summary())\n",
        "\n",
        "  return model"
      ],
      "metadata": {
        "id": "RpcGy5OMEeb8"
      },
      "execution_count": null,
      "outputs": []
    },
    {
      "cell_type": "code",
      "source": [
        "another_vgg_4 = anotherVGG16_4(summary=True)"
      ],
      "metadata": {
        "id": "-B31phY-FjYy",
        "colab": {
          "base_uri": "https://localhost:8080/"
        },
        "outputId": "5e28b8e2-eac2-47a3-aebd-135f7fbb2ecf"
      },
      "execution_count": null,
      "outputs": [
        {
          "output_type": "stream",
          "name": "stdout",
          "text": [
            "Model: \"model_10\"\n",
            "_________________________________________________________________\n",
            " Layer (type)                Output Shape              Param #   \n",
            "=================================================================\n",
            " input_14 (InputLayer)       [(None, 224, 224, 3)]     0         \n",
            "                                                                 \n",
            " vgg16 (Functional)          (None, 7, 7, 512)         14714688  \n",
            "                                                                 \n",
            " global_average_pooling2d (G  (None, 512)              0         \n",
            " lobalAveragePooling2D)                                          \n",
            "                                                                 \n",
            " dense_22 (Dense)            (None, 1024)              525312    \n",
            "                                                                 \n",
            " dense_23 (Dense)            (None, 1024)              1049600   \n",
            "                                                                 \n",
            " dropout_39 (Dropout)        (None, 1024)              0         \n",
            "                                                                 \n",
            " dense_24 (Dense)            (None, 5)                 5125      \n",
            "                                                                 \n",
            "=================================================================\n",
            "Total params: 16,294,725\n",
            "Trainable params: 1,580,037\n",
            "Non-trainable params: 14,714,688\n",
            "_________________________________________________________________\n",
            "None\n"
          ]
        }
      ]
    },
    {
      "cell_type": "code",
      "source": [
        "start_tra = perf_counter()\n",
        "another_history_4 = another_vgg_4.fit(train_ds, epochs=20, batch_size=128, validation_data=test_ds)\n",
        "end_tra = perf_counter()\n",
        "\n",
        "time = round((end_tra-start_tra), 2)\n",
        "print('train phase time: ', time)"
      ],
      "metadata": {
        "id": "nrgX0uqsFjy4",
        "colab": {
          "base_uri": "https://localhost:8080/"
        },
        "outputId": "deb7f896-5ae4-4c8f-f716-86a1ff0a517e"
      },
      "execution_count": null,
      "outputs": [
        {
          "output_type": "stream",
          "name": "stdout",
          "text": [
            "Epoch 1/20\n",
            "108/108 [==============================] - 24s 212ms/step - loss: 0.9819 - accuracy: 0.6258 - val_loss: 0.7391 - val_accuracy: 0.7280\n",
            "Epoch 2/20\n",
            "108/108 [==============================] - 22s 207ms/step - loss: 0.6027 - accuracy: 0.7840 - val_loss: 0.5814 - val_accuracy: 0.8009\n",
            "Epoch 3/20\n",
            "108/108 [==============================] - 23s 208ms/step - loss: 0.5126 - accuracy: 0.8083 - val_loss: 0.5799 - val_accuracy: 0.7940\n",
            "Epoch 4/20\n",
            "108/108 [==============================] - 22s 206ms/step - loss: 0.4537 - accuracy: 0.8352 - val_loss: 0.5845 - val_accuracy: 0.7951\n",
            "Epoch 5/20\n",
            "108/108 [==============================] - 23s 208ms/step - loss: 0.3929 - accuracy: 0.8517 - val_loss: 0.4890 - val_accuracy: 0.8310\n",
            "Epoch 6/20\n",
            "108/108 [==============================] - 22s 207ms/step - loss: 0.3408 - accuracy: 0.8714 - val_loss: 0.6869 - val_accuracy: 0.7812\n",
            "Epoch 7/20\n",
            "108/108 [==============================] - 22s 208ms/step - loss: 0.3010 - accuracy: 0.8902 - val_loss: 0.4772 - val_accuracy: 0.8426\n",
            "Epoch 8/20\n",
            "108/108 [==============================] - 22s 206ms/step - loss: 0.2634 - accuracy: 0.9036 - val_loss: 0.5081 - val_accuracy: 0.8391\n",
            "Epoch 9/20\n",
            "108/108 [==============================] - 22s 207ms/step - loss: 0.2613 - accuracy: 0.9044 - val_loss: 0.5470 - val_accuracy: 0.8160\n",
            "Epoch 10/20\n",
            "108/108 [==============================] - 22s 206ms/step - loss: 0.2313 - accuracy: 0.9128 - val_loss: 0.5339 - val_accuracy: 0.8275\n",
            "Epoch 11/20\n",
            "108/108 [==============================] - 22s 207ms/step - loss: 0.1869 - accuracy: 0.9319 - val_loss: 0.5321 - val_accuracy: 0.8368\n",
            "Epoch 12/20\n",
            "108/108 [==============================] - 23s 213ms/step - loss: 0.1636 - accuracy: 0.9389 - val_loss: 0.5971 - val_accuracy: 0.8148\n",
            "Epoch 13/20\n",
            "108/108 [==============================] - 23s 214ms/step - loss: 0.1639 - accuracy: 0.9354 - val_loss: 0.5212 - val_accuracy: 0.8380\n",
            "Epoch 14/20\n",
            "108/108 [==============================] - 22s 207ms/step - loss: 0.1524 - accuracy: 0.9401 - val_loss: 0.5989 - val_accuracy: 0.8194\n",
            "Epoch 15/20\n",
            "108/108 [==============================] - 22s 205ms/step - loss: 0.1374 - accuracy: 0.9482 - val_loss: 0.5709 - val_accuracy: 0.8414\n",
            "Epoch 16/20\n",
            "108/108 [==============================] - 22s 206ms/step - loss: 0.0958 - accuracy: 0.9655 - val_loss: 0.5900 - val_accuracy: 0.8287\n",
            "Epoch 17/20\n",
            "108/108 [==============================] - 23s 214ms/step - loss: 0.0935 - accuracy: 0.9655 - val_loss: 0.6407 - val_accuracy: 0.8356\n",
            "Epoch 18/20\n",
            "108/108 [==============================] - 22s 207ms/step - loss: 0.0604 - accuracy: 0.9818 - val_loss: 0.6557 - val_accuracy: 0.8426\n",
            "Epoch 19/20\n",
            "108/108 [==============================] - 22s 207ms/step - loss: 0.0922 - accuracy: 0.9647 - val_loss: 0.6242 - val_accuracy: 0.8426\n",
            "Epoch 20/20\n",
            "108/108 [==============================] - 22s 207ms/step - loss: 0.1213 - accuracy: 0.9595 - val_loss: 0.7398 - val_accuracy: 0.8044\n",
            "train phase time:  507.68\n"
          ]
        }
      ]
    },
    {
      "cell_type": "code",
      "source": [
        "plt.plot(another_history_4.history['loss'], label='train-loss')\n",
        "plt.plot(another_history_4.history['val_loss'], label='val-loss')\n",
        "plt.plot(another_history_4.history['accuracy'], label='train-acc')\n",
        "plt.plot(another_history_4.history['val_accuracy'], label='val-acc')\n",
        "plt.legend()"
      ],
      "metadata": {
        "id": "hlhaI9EfFlPo",
        "colab": {
          "base_uri": "https://localhost:8080/",
          "height": 282
        },
        "outputId": "701cbb72-a8b2-4cf9-af9a-cba8a73aaa22"
      },
      "execution_count": null,
      "outputs": [
        {
          "output_type": "execute_result",
          "data": {
            "text/plain": [
              "<matplotlib.legend.Legend at 0x7f27a61ced50>"
            ]
          },
          "metadata": {},
          "execution_count": 59
        },
        {
          "output_type": "display_data",
          "data": {
            "text/plain": [
              "<Figure size 432x288 with 1 Axes>"
            ],
            "image/png": "[encoded data removed]"
          },
          "metadata": {
            "needs_background": "light"
          }
        }
      ]
    },
    {
      "cell_type": "code",
      "source": [
        "another_score_vgg4 = another_vgg_4.evaluate(test_ds)[1]"
      ],
      "metadata": {
        "id": "63DDdNbAFm1D",
        "colab": {
          "base_uri": "https://localhost:8080/"
        },
        "outputId": "9a04c4f1-6619-4f40-daf2-9dda38681b5b"
      },
      "execution_count": null,
      "outputs": [
        {
          "output_type": "stream",
          "name": "stdout",
          "text": [
            "27/27 [==============================] - 5s 163ms/step - loss: 0.7398 - accuracy: 0.8044\n"
          ]
        }
      ]
    },
    {
      "cell_type": "markdown",
      "source": [
        "## TransferLearinig Part 5 (Open the last trainable layers before fully connected and add some dense/dropout layers)"
      ],
      "metadata": {
        "id": "GDeNGx94sTD_"
      }
    },
    {
      "cell_type": "code",
      "source": [
        "def VGG16_5(summary=False):\n",
        "  vgg_model = VGG16(weights='imagenet', input_shape=(224,224,3), include_top=False)\n",
        "\n",
        "  for layer in vgg_model.layers[:]:\n",
        "      layer.trainable = False\n",
        "  # this part is just like: vgg_model.trainable = False\n",
        "\n",
        "  # let the layers after last block be train\n",
        "  set_trainable = False\n",
        "  for lyr in vgg_model.layers:\n",
        "    if lyr.name=='block5_conv3':\n",
        "      set_trainable=True\n",
        "    lyr.trainable = set_trainable\n",
        "\n",
        "  output = vgg_model.get_layer('block5_pool').output # this part is just like vgg_model.layers[-1].output\n",
        "  output = layers.Flatten(name='flatten')(output)\n",
        "  output = layers.Dense(1024, activation='relu',kernel_initializer='he_normal', name='fc1')(output)\n",
        "  output = layers.Dense(1024, activation='relu',kernel_initializer='he_normal', name='fc2')(output)\n",
        "  output = layers.Dense(1024, activation='relu',kernel_initializer='he_normal', name='fc3')(output)\n",
        "  output = layers.Dropout(0.4)(output)\n",
        "  output = layers.Dense(5, activation='softmax')(output)\n",
        "\n",
        "  vgg_model = Model(vgg_model.input, output)\n",
        "  vgg_model.compile(optimizer='adam', loss='categorical_crossentropy', metrics=['accuracy'])\n",
        "\n",
        "  if summary:\n",
        "    print(vgg_model.summary())\n",
        "\n",
        "  return vgg_model"
      ],
      "metadata": {
        "id": "tKp9Rg1a8B0X"
      },
      "execution_count": 5,
      "outputs": []
    },
    {
      "cell_type": "code",
      "source": [
        "vgg_5 = VGG16_5(summary=True)"
      ],
      "metadata": {
        "id": "MAXJWJjM-dQV",
        "colab": {
          "base_uri": "https://localhost:8080/"
        },
        "outputId": "9c14da75-041a-4258-f131-924478a7e843"
      },
      "execution_count": 6,
      "outputs": [
        {
          "output_type": "stream",
          "name": "stdout",
          "text": [
            "Downloading data from https://storage.googleapis.com/tensorflow/keras-applications/vgg16/vgg16_weights_tf_dim_ordering_tf_kernels_notop.h5\n",
            "58889256/58889256 [==============================] - 0s 0us/step\n",
            "Model: \"model\"\n",
            "_________________________________________________________________\n",
            " Layer (type)                Output Shape              Param #   \n",
            "=================================================================\n",
            " input_1 (InputLayer)        [(None, 224, 224, 3)]     0         \n",
            "                                                                 \n",
            " block1_conv1 (Conv2D)       (None, 224, 224, 64)      1792      \n",
            "                                                                 \n",
            " block1_conv2 (Conv2D)       (None, 224, 224, 64)      36928     \n",
            "                                                                 \n",
            " block1_pool (MaxPooling2D)  (None, 112, 112, 64)      0         \n",
            "                                                                 \n",
            " block2_conv1 (Conv2D)       (None, 112, 112, 128)     73856     \n",
            "                                                                 \n",
            " block2_conv2 (Conv2D)       (None, 112, 112, 128)     147584    \n",
            "                                                                 \n",
            " block2_pool (MaxPooling2D)  (None, 56, 56, 128)       0         \n",
            "                                                                 \n",
            " block3_conv1 (Conv2D)       (None, 56, 56, 256)       295168    \n",
            "                                                                 \n",
            " block3_conv2 (Conv2D)       (None, 56, 56, 256)       590080    \n",
            "                                                                 \n",
            " block3_conv3 (Conv2D)       (None, 56, 56, 256)       590080    \n",
            "                                                                 \n",
            " block3_pool (MaxPooling2D)  (None, 28, 28, 256)       0         \n",
            "                                                                 \n",
            " block4_conv1 (Conv2D)       (None, 28, 28, 512)       1180160   \n",
            "                                                                 \n",
            " block4_conv2 (Conv2D)       (None, 28, 28, 512)       2359808   \n",
            "                                                                 \n",
            " block4_conv3 (Conv2D)       (None, 28, 28, 512)       2359808   \n",
            "                                                                 \n",
            " block4_pool (MaxPooling2D)  (None, 14, 14, 512)       0         \n",
            "                                                                 \n",
            " block5_conv1 (Conv2D)       (None, 14, 14, 512)       2359808   \n",
            "                                                                 \n",
            " block5_conv2 (Conv2D)       (None, 14, 14, 512)       2359808   \n",
            "                                                                 \n",
            " block5_conv3 (Conv2D)       (None, 14, 14, 512)       2359808   \n",
            "                                                                 \n",
            " block5_pool (MaxPooling2D)  (None, 7, 7, 512)         0         \n",
            "                                                                 \n",
            " flatten (Flatten)           (None, 25088)             0         \n",
            "                                                                 \n",
            " fc1 (Dense)                 (None, 1024)              25691136  \n",
            "                                                                 \n",
            " fc2 (Dense)                 (None, 1024)              1049600   \n",
            "                                                                 \n",
            " fc3 (Dense)                 (None, 1024)              1049600   \n",
            "                                                                 \n",
            " dropout (Dropout)           (None, 1024)              0         \n",
            "                                                                 \n",
            " dense (Dense)               (None, 5)                 5125      \n",
            "                                                                 \n",
            "=================================================================\n",
            "Total params: 42,510,149\n",
            "Trainable params: 30,155,269\n",
            "Non-trainable params: 12,354,880\n",
            "_________________________________________________________________\n",
            "None\n"
          ]
        }
      ]
    },
    {
      "cell_type": "code",
      "source": [
        "start_tra = perf_counter()\n",
        "history_5 = vgg_5.fit(train_ds, epochs=20, batch_size=128, validation_data=test_ds)\n",
        "end_tra = perf_counter()\n",
        "\n",
        "time = round((end_tra-start_tra), 2)\n",
        "print('train phase time: ', time)"
      ],
      "metadata": {
        "id": "Ca0W-i5N-e6m",
        "colab": {
          "base_uri": "https://localhost:8080/"
        },
        "outputId": "f426c7ac-bb2f-49e1-d482-a60c74dc7352"
      },
      "execution_count": 10,
      "outputs": [
        {
          "output_type": "stream",
          "name": "stdout",
          "text": [
            "Epoch 1/20\n",
            "108/108 [==============================] - 36s 225ms/step - loss: 1.1957 - accuracy: 0.6571 - val_loss: 0.6129 - val_accuracy: 0.7859\n",
            "Epoch 2/20\n",
            "108/108 [==============================] - 22s 207ms/step - loss: 0.4853 - accuracy: 0.8326 - val_loss: 0.6766 - val_accuracy: 0.7812\n",
            "Epoch 3/20\n",
            "108/108 [==============================] - 22s 203ms/step - loss: 0.3328 - accuracy: 0.8879 - val_loss: 0.5039 - val_accuracy: 0.8183\n",
            "Epoch 4/20\n",
            "108/108 [==============================] - 22s 203ms/step - loss: 0.2504 - accuracy: 0.9172 - val_loss: 0.5537 - val_accuracy: 0.8056\n",
            "Epoch 5/20\n",
            "108/108 [==============================] - 22s 206ms/step - loss: 0.2041 - accuracy: 0.9398 - val_loss: 0.6394 - val_accuracy: 0.8067\n",
            "Epoch 6/20\n",
            "108/108 [==============================] - 23s 208ms/step - loss: 0.1288 - accuracy: 0.9612 - val_loss: 0.8006 - val_accuracy: 0.8449\n",
            "Epoch 7/20\n",
            "108/108 [==============================] - 23s 211ms/step - loss: 0.1598 - accuracy: 0.9513 - val_loss: 0.6696 - val_accuracy: 0.8125\n",
            "Epoch 8/20\n",
            "108/108 [==============================] - 23s 215ms/step - loss: 0.1094 - accuracy: 0.9658 - val_loss: 0.7710 - val_accuracy: 0.8183\n",
            "Epoch 9/20\n",
            "108/108 [==============================] - 23s 215ms/step - loss: 0.1077 - accuracy: 0.9702 - val_loss: 0.9729 - val_accuracy: 0.8171\n",
            "Epoch 10/20\n",
            "108/108 [==============================] - 23s 216ms/step - loss: 0.0847 - accuracy: 0.9783 - val_loss: 0.9147 - val_accuracy: 0.8137\n",
            "Epoch 11/20\n",
            "108/108 [==============================] - 24s 219ms/step - loss: 0.0536 - accuracy: 0.9849 - val_loss: 1.0511 - val_accuracy: 0.8229\n",
            "Epoch 12/20\n",
            "108/108 [==============================] - 24s 218ms/step - loss: 0.1413 - accuracy: 0.9638 - val_loss: 0.7647 - val_accuracy: 0.8275\n",
            "Epoch 13/20\n",
            "108/108 [==============================] - 23s 216ms/step - loss: 0.0581 - accuracy: 0.9820 - val_loss: 1.1398 - val_accuracy: 0.8322\n",
            "Epoch 14/20\n",
            "108/108 [==============================] - 24s 219ms/step - loss: 0.0980 - accuracy: 0.9751 - val_loss: 0.8398 - val_accuracy: 0.8333\n",
            "Epoch 15/20\n",
            "108/108 [==============================] - 24s 218ms/step - loss: 0.0925 - accuracy: 0.9765 - val_loss: 1.1922 - val_accuracy: 0.8183\n",
            "Epoch 16/20\n",
            "108/108 [==============================] - 24s 217ms/step - loss: 0.0463 - accuracy: 0.9875 - val_loss: 1.0608 - val_accuracy: 0.8056\n",
            "Epoch 17/20\n",
            "108/108 [==============================] - 24s 219ms/step - loss: 0.0751 - accuracy: 0.9829 - val_loss: 1.3025 - val_accuracy: 0.8171\n",
            "Epoch 18/20\n",
            "108/108 [==============================] - 24s 218ms/step - loss: 0.0685 - accuracy: 0.9847 - val_loss: 1.2304 - val_accuracy: 0.8183\n",
            "Epoch 19/20\n",
            "108/108 [==============================] - 24s 219ms/step - loss: 0.0339 - accuracy: 0.9913 - val_loss: 1.5300 - val_accuracy: 0.8403\n",
            "Epoch 20/20\n",
            "108/108 [==============================] - 24s 219ms/step - loss: 0.0633 - accuracy: 0.9875 - val_loss: 1.3960 - val_accuracy: 0.8333\n",
            "train phase time:  511.24\n"
          ]
        }
      ]
    },
    {
      "cell_type": "code",
      "source": [
        "plt.plot(history_5.history['loss'], label='train-loss')\n",
        "plt.plot(history_5.history['val_loss'], label='val-loss')\n",
        "plt.plot(history_5.history['accuracy'], label='train-acc')\n",
        "plt.plot(history_5.history['val_accuracy'], label='val-acc')\n",
        "plt.legend()"
      ],
      "metadata": {
        "id": "gZNFCF2a-fM9",
        "colab": {
          "base_uri": "https://localhost:8080/",
          "height": 286
        },
        "outputId": "375909e7-042e-4812-9f98-9861f0e3e943"
      },
      "execution_count": 11,
      "outputs": [
        {
          "output_type": "execute_result",
          "data": {
            "text/plain": [
              "<matplotlib.legend.Legend at 0x7f9de06fbe50>"
            ]
          },
          "metadata": {},
          "execution_count": 11
        },
        {
          "output_type": "display_data",
          "data": {
            "text/plain": [
              "<Figure size 432x288 with 1 Axes>"
            ],
            "image/png": "[encoded data removed]"
          },
          "metadata": {
            "needs_background": "light"
          }
        }
      ]
    },
    {
      "cell_type": "code",
      "source": [
        "score_vgg5 = vgg_5.evaluate(test_ds)[1]"
      ],
      "metadata": {
        "id": "BWL0UXS0-g1X",
        "colab": {
          "base_uri": "https://localhost:8080/"
        },
        "outputId": "4f32cc70-2076-45ec-822c-d630bee7b704"
      },
      "execution_count": 12,
      "outputs": [
        {
          "output_type": "stream",
          "name": "stdout",
          "text": [
            "27/27 [==============================] - 5s 164ms/step - loss: 1.3960 - accuracy: 0.8333\n"
          ]
        }
      ]
    },
    {
      "cell_type": "code",
      "source": [
        "def anotherVGG16_5(summary=False):\n",
        "\n",
        "  vgg_model = VGG16(weights='imagenet', input_shape=(224,224,3), include_top=False)\n",
        "  vgg_model.trainable = False\n",
        "\n",
        "  # let the layers after last block be train\n",
        "  set_trainable = False\n",
        "  for lyr in vgg_model.layers:\n",
        "    if lyr.name=='block5_conv3':\n",
        "      set_trainable=True\n",
        "    lyr.trainable = set_trainable\n",
        "\n",
        "  inputs = layers.Input(shape=(224,224,3))\n",
        "  x = vgg_model(inputs, training=False)\n",
        "  x = layers.GlobalAveragePooling2D()(x)\n",
        "  x = layers.Dense(1024, activation='relu', kernel_initializer='he_normal')(x)\n",
        "  x = layers.Dense(1024, activation='relu', kernel_initializer='he_normal')(x)\n",
        "  x = layers.Dense(1024, activation='relu', kernel_initializer='he_normal')(x)\n",
        "  x = layers.Dropout(0.3)(x)\n",
        "  prediction = layers.Dense(5, activation='softmax')(x)\n",
        "\n",
        "  model = Model(inputs=inputs, outputs=prediction)\n",
        "  model.compile(optimizer=keras.optimizers.Adam(1e-5),loss='categorical_crossentropy',metrics=['accuracy'])\n",
        "\n",
        "  if summary:\n",
        "    print(model.summary())\n",
        "\n",
        "  return model"
      ],
      "metadata": {
        "id": "gx1xNC7AF3aa"
      },
      "execution_count": 13,
      "outputs": []
    },
    {
      "cell_type": "code",
      "source": [
        "another_vgg_5 = anotherVGG16_5(summary=True)"
      ],
      "metadata": {
        "id": "Np04MuFEF-oW",
        "colab": {
          "base_uri": "https://localhost:8080/"
        },
        "outputId": "83a91e81-84f3-49d7-d4a9-e89cc46394fa"
      },
      "execution_count": 14,
      "outputs": [
        {
          "output_type": "stream",
          "name": "stdout",
          "text": [
            "Model: \"model_1\"\n",
            "_________________________________________________________________\n",
            " Layer (type)                Output Shape              Param #   \n",
            "=================================================================\n",
            " input_3 (InputLayer)        [(None, 224, 224, 3)]     0         \n",
            "                                                                 \n",
            " vgg16 (Functional)          (None, 7, 7, 512)         14714688  \n",
            "                                                                 \n",
            " global_average_pooling2d (G  (None, 512)              0         \n",
            " lobalAveragePooling2D)                                          \n",
            "                                                                 \n",
            " dense_1 (Dense)             (None, 1024)              525312    \n",
            "                                                                 \n",
            " dense_2 (Dense)             (None, 1024)              1049600   \n",
            "                                                                 \n",
            " dense_3 (Dense)             (None, 1024)              1049600   \n",
            "                                                                 \n",
            " dropout_1 (Dropout)         (None, 1024)              0         \n",
            "                                                                 \n",
            " dense_4 (Dense)             (None, 5)                 5125      \n",
            "                                                                 \n",
            "=================================================================\n",
            "Total params: 17,344,325\n",
            "Trainable params: 2,629,637\n",
            "Non-trainable params: 14,714,688\n",
            "_________________________________________________________________\n",
            "None\n"
          ]
        }
      ]
    },
    {
      "cell_type": "code",
      "source": [
        "start_tra = perf_counter()\n",
        "another_history_5 = another_vgg_5.fit(train_ds, epochs=20, batch_size=128, validation_data=test_ds)\n",
        "end_tra = perf_counter()\n",
        "\n",
        "time = round((end_tra-start_tra), 2)\n",
        "print('train phase time: ', time)"
      ],
      "metadata": {
        "id": "xDORmyieF-pW",
        "colab": {
          "base_uri": "https://localhost:8080/"
        },
        "outputId": "8a5c4a86-01b3-4175-f4b8-3ae9e694b302"
      },
      "execution_count": 15,
      "outputs": [
        {
          "output_type": "stream",
          "name": "stdout",
          "text": [
            "Epoch 1/20\n",
            "108/108 [==============================] - 25s 222ms/step - loss: 1.5940 - accuracy: 0.3015 - val_loss: 1.3844 - val_accuracy: 0.4676\n",
            "Epoch 2/20\n",
            "108/108 [==============================] - 22s 205ms/step - loss: 1.3742 - accuracy: 0.4382 - val_loss: 1.2210 - val_accuracy: 0.5914\n",
            "Epoch 3/20\n",
            "108/108 [==============================] - 22s 206ms/step - loss: 1.2138 - accuracy: 0.5476 - val_loss: 1.0947 - val_accuracy: 0.6377\n",
            "Epoch 4/20\n",
            "108/108 [==============================] - 22s 208ms/step - loss: 1.0982 - accuracy: 0.5940 - val_loss: 0.9993 - val_accuracy: 0.6562\n",
            "Epoch 5/20\n",
            "108/108 [==============================] - 22s 208ms/step - loss: 1.0157 - accuracy: 0.6253 - val_loss: 0.9346 - val_accuracy: 0.6991\n",
            "Epoch 6/20\n",
            "108/108 [==============================] - 23s 209ms/step - loss: 0.9473 - accuracy: 0.6444 - val_loss: 0.8789 - val_accuracy: 0.7199\n",
            "Epoch 7/20\n",
            "108/108 [==============================] - 22s 207ms/step - loss: 0.8818 - accuracy: 0.6881 - val_loss: 0.8349 - val_accuracy: 0.7211\n",
            "Epoch 8/20\n",
            "108/108 [==============================] - 22s 207ms/step - loss: 0.8415 - accuracy: 0.7037 - val_loss: 0.8019 - val_accuracy: 0.7465\n",
            "Epoch 9/20\n",
            "108/108 [==============================] - 24s 219ms/step - loss: 0.8039 - accuracy: 0.7182 - val_loss: 0.7809 - val_accuracy: 0.7523\n",
            "Epoch 10/20\n",
            "108/108 [==============================] - 22s 206ms/step - loss: 0.7718 - accuracy: 0.7310 - val_loss: 0.7497 - val_accuracy: 0.7488\n",
            "Epoch 11/20\n",
            "108/108 [==============================] - 22s 206ms/step - loss: 0.7372 - accuracy: 0.7370 - val_loss: 0.7282 - val_accuracy: 0.7535\n",
            "Epoch 12/20\n",
            "108/108 [==============================] - 22s 206ms/step - loss: 0.7219 - accuracy: 0.7437 - val_loss: 0.7094 - val_accuracy: 0.7512\n",
            "Epoch 13/20\n",
            "108/108 [==============================] - 23s 209ms/step - loss: 0.7000 - accuracy: 0.7570 - val_loss: 0.7078 - val_accuracy: 0.7593\n",
            "Epoch 14/20\n",
            "108/108 [==============================] - 22s 207ms/step - loss: 0.6810 - accuracy: 0.7602 - val_loss: 0.6973 - val_accuracy: 0.7627\n",
            "Epoch 15/20\n",
            "108/108 [==============================] - 22s 205ms/step - loss: 0.6695 - accuracy: 0.7556 - val_loss: 0.6798 - val_accuracy: 0.7708\n",
            "Epoch 16/20\n",
            "108/108 [==============================] - 22s 205ms/step - loss: 0.6484 - accuracy: 0.7764 - val_loss: 0.6687 - val_accuracy: 0.7708\n",
            "Epoch 17/20\n",
            "108/108 [==============================] - 23s 209ms/step - loss: 0.6339 - accuracy: 0.7848 - val_loss: 0.6511 - val_accuracy: 0.7801\n",
            "Epoch 18/20\n",
            "108/108 [==============================] - 22s 207ms/step - loss: 0.6230 - accuracy: 0.7851 - val_loss: 0.6394 - val_accuracy: 0.7847\n",
            "Epoch 19/20\n",
            "108/108 [==============================] - 23s 208ms/step - loss: 0.6101 - accuracy: 0.7819 - val_loss: 0.6382 - val_accuracy: 0.7789\n",
            "Epoch 20/20\n",
            "108/108 [==============================] - 22s 206ms/step - loss: 0.5974 - accuracy: 0.7915 - val_loss: 0.6225 - val_accuracy: 0.7882\n",
            "train phase time:  526.06\n"
          ]
        }
      ]
    },
    {
      "cell_type": "code",
      "source": [
        "plt.plot(another_history_5.history['loss'], label='train-loss')\n",
        "plt.plot(another_history_5.history['val_loss'], label='val-loss')\n",
        "plt.plot(another_history_5.history['accuracy'], label='train-acc')\n",
        "plt.plot(another_history_5.history['val_accuracy'], label='val-acc')\n",
        "plt.legend()"
      ],
      "metadata": {
        "id": "I1kWxnBlGlEU",
        "colab": {
          "base_uri": "https://localhost:8080/",
          "height": 282
        },
        "outputId": "2ba2d466-3eb4-4f93-a94b-a689ba2febaa"
      },
      "execution_count": 16,
      "outputs": [
        {
          "output_type": "execute_result",
          "data": {
            "text/plain": [
              "<matplotlib.legend.Legend at 0x7f9dbe673510>"
            ]
          },
          "metadata": {},
          "execution_count": 16
        },
        {
          "output_type": "display_data",
          "data": {
            "text/plain": [
              "<Figure size 432x288 with 1 Axes>"
            ],
            "image/png": "[encoded data removed]"
          },
          "metadata": {
            "needs_background": "light"
          }
        }
      ]
    },
    {
      "cell_type": "code",
      "source": [
        "another_score_vgg5 = another_vgg_5.evaluate(test_ds)[1]"
      ],
      "metadata": {
        "id": "17y5QGDVGmmO",
        "colab": {
          "base_uri": "https://localhost:8080/"
        },
        "outputId": "fe64c264-0ff4-4d3e-d5b6-20dae7da1378"
      },
      "execution_count": 17,
      "outputs": [
        {
          "output_type": "stream",
          "name": "stdout",
          "text": [
            "27/27 [==============================] - 4s 159ms/step - loss: 0.6225 - accuracy: 0.7882\n"
          ]
        }
      ]
    },
    {
      "cell_type": "code",
      "source": [
        "prediction = another_vgg_5.predict(test_ds)\n",
        "prediction = np.argmax(prediction, axis=1)"
      ],
      "metadata": {
        "id": "SGyo7ANMu91Z"
      },
      "execution_count": null,
      "outputs": []
    },
    {
      "cell_type": "markdown",
      "source": [
        "FeatuteExtraction"
      ],
      "metadata": {
        "id": "txATWotYlu3A"
      }
    },
    {
      "cell_type": "code",
      "source": [
        "model = VGG16(weights='imagenet',\n",
        "              include_top=False,\n",
        "              input_shape=(224, 224, 3))\n",
        "model.summary()\n",
        "# model.trainable = False"
      ],
      "metadata": {
        "id": "pfxO-wrnqeHe",
        "colab": {
          "base_uri": "https://localhost:8080/"
        },
        "outputId": "4b8f6e8a-0074-412c-8d49-787b8fa33c0c"
      },
      "execution_count": 9,
      "outputs": [
        {
          "output_type": "stream",
          "name": "stdout",
          "text": [
            "Model: \"vgg16\"\n",
            "_________________________________________________________________\n",
            " Layer (type)                Output Shape              Param #   \n",
            "=================================================================\n",
            " input_2 (InputLayer)        [(None, 224, 224, 3)]     0         \n",
            "                                                                 \n",
            " block1_conv1 (Conv2D)       (None, 224, 224, 64)      1792      \n",
            "                                                                 \n",
            " block1_conv2 (Conv2D)       (None, 224, 224, 64)      36928     \n",
            "                                                                 \n",
            " block1_pool (MaxPooling2D)  (None, 112, 112, 64)      0         \n",
            "                                                                 \n",
            " block2_conv1 (Conv2D)       (None, 112, 112, 128)     73856     \n",
            "                                                                 \n",
            " block2_conv2 (Conv2D)       (None, 112, 112, 128)     147584    \n",
            "                                                                 \n",
            " block2_pool (MaxPooling2D)  (None, 56, 56, 128)       0         \n",
            "                                                                 \n",
            " block3_conv1 (Conv2D)       (None, 56, 56, 256)       295168    \n",
            "                                                                 \n",
            " block3_conv2 (Conv2D)       (None, 56, 56, 256)       590080    \n",
            "                                                                 \n",
            " block3_conv3 (Conv2D)       (None, 56, 56, 256)       590080    \n",
            "                                                                 \n",
            " block3_pool (MaxPooling2D)  (None, 28, 28, 256)       0         \n",
            "                                                                 \n",
            " block4_conv1 (Conv2D)       (None, 28, 28, 512)       1180160   \n",
            "                                                                 \n",
            " block4_conv2 (Conv2D)       (None, 28, 28, 512)       2359808   \n",
            "                                                                 \n",
            " block4_conv3 (Conv2D)       (None, 28, 28, 512)       2359808   \n",
            "                                                                 \n",
            " block4_pool (MaxPooling2D)  (None, 14, 14, 512)       0         \n",
            "                                                                 \n",
            " block5_conv1 (Conv2D)       (None, 14, 14, 512)       2359808   \n",
            "                                                                 \n",
            " block5_conv2 (Conv2D)       (None, 14, 14, 512)       2359808   \n",
            "                                                                 \n",
            " block5_conv3 (Conv2D)       (None, 14, 14, 512)       2359808   \n",
            "                                                                 \n",
            " block5_pool (MaxPooling2D)  (None, 7, 7, 512)         0         \n",
            "                                                                 \n",
            "=================================================================\n",
            "Total params: 14,714,688\n",
            "Trainable params: 14,714,688\n",
            "Non-trainable params: 0\n",
            "_________________________________________________________________\n"
          ]
        }
      ]
    },
    {
      "cell_type": "code",
      "source": [
        "datagenerator = ImageDataGenerator(rescale=1./255)\n",
        "\n",
        "def feature_extractor(sample_size, batch_size, data_frame):\n",
        "  features = np.zeros((sample_size, 7, 7, 512))\n",
        "  labels = np.zeros((sample_size,5))\n",
        "  datagen = datagenerator.flow_from_dataframe(data_frame,\n",
        "                                            x_col='Filepath',\n",
        "                                            y_col='Label',\n",
        "                                            target_size=(224, 224),\n",
        "                                            color_mode='rgb',\n",
        "                                            class_mode='categorical',\n",
        "                                            batch_size=32)\n",
        "  cnt = 0 \n",
        "  for input_pxl, lbl in datagen:\n",
        "    features_batch = model.predict(input_pxl)\n",
        "    features[cnt * batch_size : (cnt+1) * batch_size] = features_batch\n",
        "    labels[cnt * batch_size : (cnt+1) * batch_size] = lbl\n",
        "    cnt += 1\n",
        "    if cnt * batch_size > sample_size:\n",
        "      break\n",
        "    \n",
        "\n",
        "  return features, labels"
      ],
      "metadata": {
        "id": "fNkGhiH5W4ql"
      },
      "execution_count": 10,
      "outputs": []
    },
    {
      "cell_type": "code",
      "source": [
        "train_ds, test_ds = train_test_split(image_df, test_size=0.1, random_state=1)"
      ],
      "metadata": {
        "id": "UvVdhj6CcSJU"
      },
      "execution_count": 11,
      "outputs": []
    },
    {
      "cell_type": "code",
      "source": [
        "train_features, train_labels = feature_extractor(len(train_ds), batch_size=32, data_frame=train_ds)\n",
        "test_features, test_labels = feature_extractor(len(test_ds), batch_size=32, data_frame=test_ds)"
      ],
      "metadata": {
        "id": "jdZkro0PoZbA",
        "colab": {
          "base_uri": "https://localhost:8080/"
        },
        "outputId": "55dfb1c2-e9fb-474d-a09a-acdebff27d8f"
      },
      "execution_count": 12,
      "outputs": [
        {
          "output_type": "stream",
          "name": "stdout",
          "text": [
            "Found 3885 validated image filenames belonging to 5 classes.\n",
            "1/1 [==============================] - 0s 135ms/step\n",
            "1/1 [==============================] - 0s 29ms/step\n",
            "1/1 [==============================] - 0s 27ms/step\n",
            "1/1 [==============================] - 0s 28ms/step\n",
            "1/1 [==============================] - 0s 25ms/step\n",
            "1/1 [==============================] - 0s 32ms/step\n",
            "1/1 [==============================] - 0s 28ms/step\n",
            "1/1 [==============================] - 0s 28ms/step\n",
            "1/1 [==============================] - 0s 28ms/step\n",
            "1/1 [==============================] - 0s 25ms/step\n",
            "1/1 [==============================] - 0s 31ms/step\n",
            "1/1 [==============================] - 0s 27ms/step\n",
            "1/1 [==============================] - 0s 28ms/step\n",
            "1/1 [==============================] - 0s 29ms/step\n",
            "1/1 [==============================] - 0s 33ms/step\n",
            "1/1 [==============================] - 0s 27ms/step\n",
            "1/1 [==============================] - 0s 25ms/step\n",
            "1/1 [==============================] - 0s 24ms/step\n",
            "1/1 [==============================] - 0s 29ms/step\n",
            "1/1 [==============================] - 0s 26ms/step\n",
            "1/1 [==============================] - 0s 28ms/step\n",
            "1/1 [==============================] - 0s 30ms/step\n",
            "1/1 [==============================] - 0s 26ms/step\n",
            "1/1 [==============================] - 0s 28ms/step\n",
            "1/1 [==============================] - 0s 30ms/step\n",
            "1/1 [==============================] - 0s 28ms/step\n",
            "1/1 [==============================] - 0s 27ms/step\n",
            "1/1 [==============================] - 0s 27ms/step\n",
            "1/1 [==============================] - 0s 27ms/step\n",
            "1/1 [==============================] - 0s 25ms/step\n",
            "1/1 [==============================] - 0s 27ms/step\n",
            "1/1 [==============================] - 0s 29ms/step\n",
            "1/1 [==============================] - 0s 27ms/step\n",
            "1/1 [==============================] - 0s 27ms/step\n",
            "1/1 [==============================] - 0s 25ms/step\n",
            "1/1 [==============================] - 0s 25ms/step\n",
            "1/1 [==============================] - 0s 29ms/step\n",
            "1/1 [==============================] - 0s 27ms/step\n",
            "1/1 [==============================] - 0s 27ms/step\n",
            "1/1 [==============================] - 0s 26ms/step\n",
            "1/1 [==============================] - 0s 24ms/step\n",
            "1/1 [==============================] - 0s 26ms/step\n",
            "1/1 [==============================] - 0s 28ms/step\n",
            "1/1 [==============================] - 0s 25ms/step\n",
            "1/1 [==============================] - 0s 25ms/step\n",
            "1/1 [==============================] - 0s 25ms/step\n",
            "1/1 [==============================] - 0s 25ms/step\n",
            "1/1 [==============================] - 0s 28ms/step\n",
            "1/1 [==============================] - 0s 28ms/step\n",
            "1/1 [==============================] - 0s 24ms/step\n",
            "1/1 [==============================] - 0s 24ms/step\n",
            "1/1 [==============================] - 0s 30ms/step\n",
            "1/1 [==============================] - 0s 28ms/step\n",
            "1/1 [==============================] - 0s 28ms/step\n",
            "1/1 [==============================] - 0s 26ms/step\n",
            "1/1 [==============================] - 0s 26ms/step\n",
            "1/1 [==============================] - 0s 27ms/step\n",
            "1/1 [==============================] - 0s 25ms/step\n",
            "1/1 [==============================] - 0s 27ms/step\n",
            "1/1 [==============================] - 0s 26ms/step\n",
            "1/1 [==============================] - 0s 26ms/step\n",
            "1/1 [==============================] - 0s 24ms/step\n",
            "1/1 [==============================] - 0s 29ms/step\n",
            "1/1 [==============================] - 0s 26ms/step\n",
            "1/1 [==============================] - 0s 28ms/step\n",
            "1/1 [==============================] - 0s 26ms/step\n",
            "1/1 [==============================] - 0s 27ms/step\n",
            "1/1 [==============================] - 0s 29ms/step\n",
            "1/1 [==============================] - 0s 26ms/step\n",
            "1/1 [==============================] - 0s 28ms/step\n",
            "1/1 [==============================] - 0s 26ms/step\n",
            "1/1 [==============================] - 0s 24ms/step\n",
            "1/1 [==============================] - 0s 24ms/step\n",
            "1/1 [==============================] - 0s 24ms/step\n",
            "1/1 [==============================] - 0s 25ms/step\n",
            "1/1 [==============================] - 0s 28ms/step\n",
            "1/1 [==============================] - 0s 27ms/step\n",
            "1/1 [==============================] - 0s 26ms/step\n",
            "1/1 [==============================] - 0s 25ms/step\n",
            "1/1 [==============================] - 0s 26ms/step\n",
            "1/1 [==============================] - 0s 28ms/step\n",
            "1/1 [==============================] - 0s 25ms/step\n",
            "1/1 [==============================] - 0s 23ms/step\n",
            "1/1 [==============================] - 0s 24ms/step\n",
            "1/1 [==============================] - 0s 25ms/step\n",
            "1/1 [==============================] - 0s 35ms/step\n",
            "1/1 [==============================] - 0s 29ms/step\n",
            "1/1 [==============================] - 0s 26ms/step\n",
            "1/1 [==============================] - 0s 29ms/step\n",
            "1/1 [==============================] - 0s 27ms/step\n",
            "1/1 [==============================] - 0s 26ms/step\n",
            "1/1 [==============================] - 0s 28ms/step\n",
            "1/1 [==============================] - 0s 27ms/step\n",
            "1/1 [==============================] - 0s 25ms/step\n",
            "1/1 [==============================] - 0s 28ms/step\n",
            "1/1 [==============================] - 0s 30ms/step\n",
            "1/1 [==============================] - 0s 28ms/step\n",
            "1/1 [==============================] - 0s 26ms/step\n",
            "1/1 [==============================] - 0s 28ms/step\n",
            "1/1 [==============================] - 0s 28ms/step\n",
            "1/1 [==============================] - 0s 29ms/step\n",
            "1/1 [==============================] - 0s 26ms/step\n",
            "1/1 [==============================] - 0s 27ms/step\n",
            "1/1 [==============================] - 0s 34ms/step\n",
            "1/1 [==============================] - 0s 34ms/step\n",
            "1/1 [==============================] - 0s 38ms/step\n",
            "1/1 [==============================] - 0s 34ms/step\n",
            "1/1 [==============================] - 0s 26ms/step\n",
            "1/1 [==============================] - 0s 25ms/step\n",
            "1/1 [==============================] - 0s 29ms/step\n",
            "1/1 [==============================] - 0s 26ms/step\n",
            "1/1 [==============================] - 0s 33ms/step\n",
            "1/1 [==============================] - 0s 26ms/step\n",
            "1/1 [==============================] - 0s 26ms/step\n",
            "1/1 [==============================] - 0s 26ms/step\n",
            "1/1 [==============================] - 0s 24ms/step\n",
            "1/1 [==============================] - 0s 27ms/step\n",
            "1/1 [==============================] - 0s 25ms/step\n",
            "1/1 [==============================] - 0s 27ms/step\n",
            "1/1 [==============================] - 0s 32ms/step\n",
            "1/1 [==============================] - 0s 26ms/step\n",
            "1/1 [==============================] - 2s 2s/step\n",
            "Found 432 validated image filenames belonging to 5 classes.\n",
            "1/1 [==============================] - 0s 27ms/step\n",
            "1/1 [==============================] - 0s 25ms/step\n",
            "1/1 [==============================] - 0s 25ms/step\n",
            "1/1 [==============================] - 0s 24ms/step\n",
            "1/1 [==============================] - 0s 33ms/step\n",
            "1/1 [==============================] - 0s 27ms/step\n",
            "1/1 [==============================] - 0s 31ms/step\n",
            "1/1 [==============================] - 0s 25ms/step\n",
            "1/1 [==============================] - 0s 26ms/step\n",
            "1/1 [==============================] - 0s 25ms/step\n",
            "1/1 [==============================] - 0s 27ms/step\n",
            "1/1 [==============================] - 0s 32ms/step\n",
            "1/1 [==============================] - 0s 26ms/step\n",
            "1/1 [==============================] - 2s 2s/step\n"
          ]
        }
      ]
    },
    {
      "cell_type": "markdown",
      "source": [
        "*First train a neural network with these features*"
      ],
      "metadata": {
        "id": "_mo7q--XuFjw"
      }
    },
    {
      "cell_type": "code",
      "source": [
        "train_features = train_features.reshape(-1, 7*7*512)\n",
        "test_features = test_features.reshape(-1, 7*7*512)\n",
        "\n",
        "n_features = (train_features.shape[1])\n",
        "input = layers.Input(shape=n_features)\n",
        "\n",
        "layer1 = layers.Dense(512, activation='relu', kernel_initializer='he_normal')(input)\n",
        "layer2 = layers.BatchNormalization()(layer1)\n",
        "layer3 = layers.Dropout(0.5)(layer2)\n",
        "\n",
        "output = layers.Dense(5, activation='softmax')(layer3)\n",
        "\n",
        "model = Model(input, output)\n",
        "model.compile(optimizer='adam', loss='categorical_crossentropy', metrics=['accuracy'])"
      ],
      "metadata": {
        "id": "B7WTy0dttJ9v"
      },
      "execution_count": 13,
      "outputs": []
    },
    {
      "cell_type": "code",
      "source": [
        "history = model.fit(train_features, train_labels,epochs=20 ,batch_size=64, validation_data=(test_features, test_labels))"
      ],
      "metadata": {
        "id": "o4RIydpmt9yX",
        "colab": {
          "base_uri": "https://localhost:8080/"
        },
        "outputId": "3eacd695-ed78-4491-b4cb-2879ea29e92d"
      },
      "execution_count": 14,
      "outputs": [
        {
          "output_type": "stream",
          "name": "stdout",
          "text": [
            "Epoch 1/20\n",
            "61/61 [==============================] - 2s 12ms/step - loss: 0.8698 - accuracy: 0.7184 - val_loss: 1.2642 - val_accuracy: 0.6921\n",
            "Epoch 2/20\n",
            "61/61 [==============================] - 1s 9ms/step - loss: 0.3244 - accuracy: 0.8901 - val_loss: 0.6824 - val_accuracy: 0.7708\n",
            "Epoch 3/20\n",
            "61/61 [==============================] - 1s 8ms/step - loss: 0.1947 - accuracy: 0.9318 - val_loss: 0.5881 - val_accuracy: 0.8009\n",
            "Epoch 4/20\n",
            "61/61 [==============================] - 1s 8ms/step - loss: 0.0976 - accuracy: 0.9732 - val_loss: 0.6537 - val_accuracy: 0.8079\n",
            "Epoch 5/20\n",
            "61/61 [==============================] - 0s 8ms/step - loss: 0.0655 - accuracy: 0.9846 - val_loss: 0.6075 - val_accuracy: 0.8102\n",
            "Epoch 6/20\n",
            "61/61 [==============================] - 1s 9ms/step - loss: 0.0418 - accuracy: 0.9894 - val_loss: 0.5858 - val_accuracy: 0.8403\n",
            "Epoch 7/20\n",
            "61/61 [==============================] - 1s 9ms/step - loss: 0.0352 - accuracy: 0.9938 - val_loss: 0.7608 - val_accuracy: 0.7917\n",
            "Epoch 8/20\n",
            "61/61 [==============================] - 1s 9ms/step - loss: 0.0263 - accuracy: 0.9959 - val_loss: 0.7260 - val_accuracy: 0.8056\n",
            "Epoch 9/20\n",
            "61/61 [==============================] - 1s 11ms/step - loss: 0.0218 - accuracy: 0.9964 - val_loss: 0.7073 - val_accuracy: 0.8194\n",
            "Epoch 10/20\n",
            "61/61 [==============================] - 1s 12ms/step - loss: 0.0218 - accuracy: 0.9977 - val_loss: 0.7503 - val_accuracy: 0.8264\n",
            "Epoch 11/20\n",
            "61/61 [==============================] - 1s 13ms/step - loss: 0.0211 - accuracy: 0.9982 - val_loss: 0.6932 - val_accuracy: 0.8264\n",
            "Epoch 12/20\n",
            "61/61 [==============================] - 1s 13ms/step - loss: 0.0240 - accuracy: 0.9972 - val_loss: 0.7682 - val_accuracy: 0.7917\n",
            "Epoch 13/20\n",
            "61/61 [==============================] - 1s 11ms/step - loss: 0.0163 - accuracy: 0.9977 - val_loss: 0.7805 - val_accuracy: 0.7963\n",
            "Epoch 14/20\n",
            "61/61 [==============================] - 1s 10ms/step - loss: 0.0209 - accuracy: 0.9982 - val_loss: 0.9017 - val_accuracy: 0.7662\n",
            "Epoch 15/20\n",
            "61/61 [==============================] - 1s 9ms/step - loss: 0.0220 - accuracy: 0.9982 - val_loss: 0.8196 - val_accuracy: 0.7963\n",
            "Epoch 16/20\n",
            "61/61 [==============================] - 1s 9ms/step - loss: 0.0101 - accuracy: 0.9990 - val_loss: 0.7397 - val_accuracy: 0.8218\n",
            "Epoch 17/20\n",
            "61/61 [==============================] - 1s 9ms/step - loss: 0.0153 - accuracy: 0.9985 - val_loss: 0.8862 - val_accuracy: 0.7963\n",
            "Epoch 18/20\n",
            "61/61 [==============================] - 1s 13ms/step - loss: 0.0225 - accuracy: 0.9977 - val_loss: 0.8120 - val_accuracy: 0.8194\n",
            "Epoch 19/20\n",
            "61/61 [==============================] - 1s 14ms/step - loss: 0.0167 - accuracy: 0.9969 - val_loss: 0.7650 - val_accuracy: 0.7986\n",
            "Epoch 20/20\n",
            "61/61 [==============================] - 1s 16ms/step - loss: 0.0205 - accuracy: 0.9982 - val_loss: 0.6846 - val_accuracy: 0.8125\n"
          ]
        }
      ]
    },
    {
      "cell_type": "code",
      "source": [
        "plt.plot(history.history['loss'], label='train-loss')\n",
        "plt.plot(history.history['val_loss'], label='val-loss')\n",
        "plt.plot(history.history['accuracy'], label='train-acc')\n",
        "plt.plot(history.history['val_accuracy'], label='val-acc')\n",
        "plt.legend()"
      ],
      "metadata": {
        "colab": {
          "base_uri": "https://localhost:8080/",
          "height": 282
        },
        "id": "T1l5on-vsEmV",
        "outputId": "6533a0b1-f194-4a51-d59f-f0bd5e2f2d6c"
      },
      "execution_count": 16,
      "outputs": [
        {
          "output_type": "execute_result",
          "data": {
            "text/plain": [
              "<matplotlib.legend.Legend at 0x7fa889da5b10>"
            ]
          },
          "metadata": {},
          "execution_count": 16
        },
        {
          "output_type": "display_data",
          "data": {
            "text/plain": [
              "<Figure size 432x288 with 1 Axes>"
            ],
            "image/png": "[encoded data removed]"
          },
          "metadata": {
            "needs_background": "light"
          }
        }
      ]
    },
    {
      "cell_type": "markdown",
      "source": [
        "*Now we train a svm model with extracted features*"
      ],
      "metadata": {
        "id": "x8CK-ghDuQ6-"
      }
    },
    {
      "cell_type": "code",
      "source": [
        "from sklearn.svm import SVC\n",
        "from sklearn.metrics import classification_report\n",
        "clsfier = SVC(C=1, kernel='rbf')\n",
        "clsfier.fit(train_features, np.argmax(train_labels, axis=1))\n",
        "prediction = clsfier.predict(test_features)\n",
        "print(classification_report(np.argmax(test_labels, axis=1), prediction))"
      ],
      "metadata": {
        "id": "5aDA4mHpuD7B",
        "colab": {
          "base_uri": "https://localhost:8080/"
        },
        "outputId": "1abfbf42-b3aa-4c56-e337-c3c36b6f9249"
      },
      "execution_count": 17,
      "outputs": [
        {
          "output_type": "stream",
          "name": "stdout",
          "text": [
            "              precision    recall  f1-score   support\n",
            "\n",
            "           0       0.96      0.79      0.86        81\n",
            "           1       0.75      0.90      0.82        92\n",
            "           2       0.80      0.87      0.84        76\n",
            "           3       0.80      0.71      0.75        79\n",
            "           4       0.84      0.84      0.84       104\n",
            "\n",
            "    accuracy                           0.82       432\n",
            "   macro avg       0.83      0.82      0.82       432\n",
            "weighted avg       0.83      0.82      0.82       432\n",
            "\n"
          ]
        }
      ]
    }
  ]
}